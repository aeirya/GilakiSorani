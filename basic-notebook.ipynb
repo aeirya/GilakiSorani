{
 "cells": [
  {
   "cell_type": "code",
   "execution_count": 134,
   "metadata": {},
   "outputs": [],
   "source": [
    "with open('glk.txt') as f:\n",
    "    text = f.readlines()"
   ]
  },
  {
   "cell_type": "code",
   "execution_count": 135,
   "metadata": {},
   "outputs": [],
   "source": [
    "g_corpus = '\\n'.join(text)"
   ]
  },
  {
   "cell_type": "code",
   "execution_count": 213,
   "metadata": {},
   "outputs": [],
   "source": [
    "def sent_tokenize(text):\n",
    "    split = text.split('\\n')\n",
    "    non_empty = filter(lambda sen: sen != '', split)\n",
    "    return list(non_empty)\n",
    "# text = 'this is line one\\n\\n\\n\\nonline two\\n\\n\\n\\n'\n",
    "# sent_tokenize(text) # result: ['this is line one', 'online two']"
   ]
  },
  {
   "cell_type": "code",
   "execution_count": 211,
   "metadata": {},
   "outputs": [],
   "source": [
    "# char_in = lambda begin, end: (lambda x : ord(begin) <= ord(x) <= ord(end))\n",
    "# is_num_char = lambda x: char_in('۰', '۹')(x)\n",
    "# is_gilaki_char = lambda x: char_in('آ', 'ى')(x) or x in ['چ', 'گ', 'ک', 'ئ', 'ە', 'ی']\n",
    "# set(filter(is_gilaki_char, list(corpus)))"
   ]
  },
  {
   "cell_type": "code",
   "execution_count": 120,
   "metadata": {},
   "outputs": [],
   "source": [
    "def get_char_freq(corpus, cond=None):\n",
    "    chars = {}\n",
    "    for char in list(corpus):\n",
    "        if cond is not None:\n",
    "            if not cond(char):\n",
    "                continue\n",
    "        if char not in chars:\n",
    "            chars[char] = 0\n",
    "\n",
    "        chars[char] += 1\n",
    "    \n",
    "    return sorted(chars.items(), key=lambda t: t[1], reverse=True)"
   ]
  },
  {
   "cell_type": "code",
   "execution_count": 238,
   "metadata": {},
   "outputs": [],
   "source": [
    "with open('ckb.txt') as f:\n",
    "    text = f.readlines()\n",
    "s_corpus = '\\n'.join(text)"
   ]
  },
  {
   "cell_type": "code",
   "execution_count": 260,
   "metadata": {},
   "outputs": [],
   "source": [
    "sorani_special_chars = ['ێ', 'ۆ', 'ئ', 'ڵ', 'ڕ', 'ڤ']\n",
    "# sorani_special_chars_to_shared_script\n",
    "sor_conv = {\n",
    "    'ڤ':'و',\n",
    "    'ڕ':'ر',\n",
    "    'ڵ':'ل',\n",
    "    'ئ':'ئ',\n",
    "    'ۆ':'ؤ',\n",
    "    'وو':'ۊ'\n",
    "}\n",
    "\n",
    "import re\n",
    "\n",
    "class Sorani:\n",
    "    a = 'ە'\n",
    "    e = 'ێ'\n",
    "    aa = 'ا'\n",
    "    \n",
    "    @staticmethod\n",
    "    def is_u_vowel(word, index):\n",
    "        # چک میکنه که آیا در کلمه کردی مورد نظر، و صامت هست یا مصوت\n",
    "        if index == 0:\n",
    "            return False\n",
    "        if word[index-1] in [Sorani.a, Sorani.e, Sorani.aa]:\n",
    "            return False\n",
    "        return True\n",
    "    \n",
    "def gen_possible_words(w, i=0, res=''):\n",
    "# convert kurdish word to possible alternatve written candidates\n",
    "    if i == len(w):\n",
    "        return [res]\n",
    "    if w[i] == 'و':\n",
    "        if Sorani.is_u_vowel(w, i):    \n",
    "            return gen_possible_words(w, i+1, res+'ؤ') + gen_possible_words(w, i+1, res)\n",
    "        else:\n",
    "            return gen_possible_words(w, i+1, res+'و')\n",
    "    if w[i] == 'ە':\n",
    "        return gen_possible_words(w, i+1, res+'أ') + gen_possible_words(w, i+1, res)\n",
    "    return gen_possible_words(w, i+1, res+w[i])\n",
    "        \n",
    "# from functools import cache\n",
    "# @cache\n",
    "def reduce_sorani_word(w):\n",
    "# converts sorani word to a word similar to gilaki\n",
    "    # replace 'وو'\n",
    "    w = re.sub('وو', sor_conv['وو'], w)\n",
    "    # replace special chars\n",
    "    f = lambda c: sor_conv[c] if c in sor_conv else c\n",
    "    w = ''.join(map(f, list(w)))\n",
    "        \n",
    "    word_start_conv = {\n",
    "        'ئە':'أ',\n",
    "        'ئا':'آ',\n",
    "        'ئێ':'ا',\n",
    "        'ئی':'اي'\n",
    "    }\n",
    "    if w[0:2] in word_start_conv:\n",
    "        w = word_start_conv[w[0:2]] + w[2:]\n",
    "\n",
    "    return gen_possible_words(w)"
   ]
  },
  {
   "cell_type": "code",
   "execution_count": 228,
   "metadata": {},
   "outputs": [],
   "source": [
    "def is_word(word, alphabet):\n",
    "    if len(list(filter(lambda c: c not in alphabet, list(word)))) > 0:\n",
    "        return False\n",
    "    return True\n",
    "\n",
    "sorani_letters = \"\"\"\n",
    "ب پ ت د ک گ ق ا ف ڤ س ز خ ع غ ش ژ چ ج ح ھ م ن و ی ر ڕ ل ڵ\n",
    "ى - ێ ه ە و ۆ ا\n",
    "ئ\n",
    "\"\"\".split()\n",
    "\n",
    "def is_sorani(word):\n",
    "    return is_word(word, sorani_letters)\n",
    "\n",
    "gilaki_letters = \"\"\"\n",
    " ٚ آ أ ا ب پ ت ط ث س ص ج چ ح ه خ د ذ ز ض ظ ر ژ ش ع غ ق ف ک گ ل م ن و ۊ ؤ ی ي ئ \n",
    "\"\"\".split() + ['-', '‌']\n",
    "\n",
    "def is_gilaki(word):\n",
    "    return is_word(word, gilaki_letters)"
   ]
  },
  {
   "cell_type": "code",
   "execution_count": 214,
   "metadata": {},
   "outputs": [],
   "source": [
    "# for word in corpus.split()[0:20]:\n",
    "#     print(word, reduce_sorani_word(word), is_sorani(word))"
   ]
  },
  {
   "cell_type": "code",
   "execution_count": 223,
   "metadata": {},
   "outputs": [],
   "source": [
    "def words_containing(letter, words):\n",
    "    return list(set(filter(lambda w: letter in w, words)))"
   ]
  },
  {
   "cell_type": "code",
   "execution_count": 239,
   "metadata": {},
   "outputs": [
    {
     "data": {
      "text/plain": [
       "['ئێرانیی',\n",
       " 'ئێستە.',\n",
       " '(ئێرانی',\n",
       " 'ئێبی،',\n",
       " 'ئێڵەکان',\n",
       " 'ئێرانییەکانی',\n",
       " 'ئێران)،',\n",
       " 'ئێستا',\n",
       " 'ئێستادا',\n",
       " 'ئێرانمیانمار']"
      ]
     },
     "execution_count": 239,
     "metadata": {},
     "output_type": "execute_result"
    }
   ],
   "source": [
    "words_containing('ئێ', s_corpus.split())[0:10]"
   ]
  },
  {
   "cell_type": "code",
   "execution_count": 240,
   "metadata": {},
   "outputs": [
    {
     "data": {
      "text/plain": [
       "['خۊرتأو',\n",
       " 'أمره',\n",
       " 'أنه',\n",
       " 'خؤسأنئن',\n",
       " 'دأنه',\n",
       " 'بۊجؤر-أ',\n",
       " 'دأشت،',\n",
       " 'ميان\\u200cپوشته\\u200cأن',\n",
       " 'أمنيت',\n",
       " 'ونأشت']"
      ]
     },
     "execution_count": 240,
     "metadata": {},
     "output_type": "execute_result"
    }
   ],
   "source": [
    "words_containing('أ', g_corpus.split())[0:10]"
   ]
  },
  {
   "cell_type": "code",
   "execution_count": 326,
   "metadata": {},
   "outputs": [],
   "source": [
    "import numpy as np\n",
    "\n",
    "def MED(a, b):\n",
    "    # minimal edit distance\n",
    "    n, m = len(a), len(b)\n",
    "    M = np.zeros((n+1, m+1))#.astype('int')\n",
    "    \n",
    "    M[:,0] = np.arange(n+1)\n",
    "    M[0,:] = np.arange(m+1)\n",
    "    \n",
    "    def sub(v,w):\n",
    "        if v==w: \n",
    "            return 0\n",
    "        U = ['ؤ', 'ۊ', 'و']\n",
    "        S = ['ث', 'ص', 'س']\n",
    "        T = ['ط','ت']\n",
    "        Z = ['ز','ض','ذ','ظ']\n",
    "        V = ['ي', 'ئ', 'أ', 'ا'] # vowels, needs more thought\n",
    "        \n",
    "        for closeset in [U,S,T,Z,V]:\n",
    "            if v in closeset and w in closeset:\n",
    "                return 0.25\n",
    "\n",
    "        return 2\n",
    "        \n",
    "    for i in range(n):\n",
    "        for j in range(m):\n",
    "            M[i+1,j+1] = min(\n",
    "                M[i,j+1]+1, M[i+1,j]+1,\n",
    "                M[i,j] + sub(a[i], b[j])\n",
    "            )\n",
    "\n",
    "    distance = M[n,m]\n",
    "    return distance"
   ]
  },
  {
   "cell_type": "code",
   "execution_count": 272,
   "metadata": {},
   "outputs": [
    {
     "data": {
      "text/plain": [
       "['هرتسفیلد',\n",
       " 'اسفراين',\n",
       " 'تیج',\n",
       " 'سلبس',\n",
       " 'ئن',\n",
       " 'چاله\\u200cمیدان',\n",
       " 'کارگيرؤنه',\n",
       " 'میاندوآب',\n",
       " 'حتما',\n",
       " 'دامغان-ه']"
      ]
     },
     "execution_count": 272,
     "metadata": {},
     "output_type": "execute_result"
    }
   ],
   "source": [
    "import re\n",
    "def normalize(text):\n",
    "    letter_map = {\n",
    "       '\\u200c': '‌',\n",
    "        'ك':'ک',\n",
    "        'ة':'ه'\n",
    "    }\n",
    "    return ''.join([letter_map.get(t, t) for t in list(text)])\n",
    "    \n",
    "def extract_words(text, alphabet):\n",
    "    text = normalize(text)\n",
    "    cleaned_text = ''.join([t if t in alphabet else ' ' for t in list(text)])\n",
    "    return list(set(cleaned_text.split()))\n",
    "extract_words(g_corpus, gilaki_letters)[0:10]"
   ]
  },
  {
   "cell_type": "code",
   "execution_count": 273,
   "metadata": {},
   "outputs": [],
   "source": [
    "sorani_words = extract_words(s_corpus, sorani_letters)\n",
    "gilaki_words = extract_words(g_corpus, gilaki_letters)"
   ]
  },
  {
   "cell_type": "code",
   "execution_count": 307,
   "metadata": {},
   "outputs": [],
   "source": [
    "sor_words = list(filter(lambda w: len(w)>2, sorani_words))\n",
    "glk_words = list(filter(lambda w: len(w)>2, gilaki_words))"
   ]
  },
  {
   "cell_type": "code",
   "execution_count": 312,
   "metadata": {},
   "outputs": [
    {
     "data": {
      "text/plain": [
       "(17240, 7128)"
      ]
     },
     "execution_count": 312,
     "metadata": {},
     "output_type": "execute_result"
    }
   ],
   "source": [
    "len(sor_words), len(glk_words)"
   ]
  },
  {
   "cell_type": "code",
   "execution_count": 338,
   "metadata": {
    "scrolled": false
   },
   "outputs": [
    {
     "name": "stderr",
     "output_type": "stream",
     "text": [
      "  0%|          | 2/17240 [00:01<2:23:31,  2.00it/s]"
     ]
    },
    {
     "name": "stdout",
     "output_type": "stream",
     "text": [
      "(1.0, 'وسه', 'وسته')\n"
     ]
    },
    {
     "name": "stderr",
     "output_type": "stream",
     "text": [
      "\r",
      "  0%|          | 3/17240 [00:01<2:21:40,  2.03it/s]"
     ]
    },
    {
     "name": "stdout",
     "output_type": "stream",
     "text": [
      "(1.25, 'وسه', 'تؤسه')\n"
     ]
    },
    {
     "name": "stderr",
     "output_type": "stream",
     "text": [
      "  0%|          | 8/17240 [00:07<5:09:59,  1.08s/it]"
     ]
    },
    {
     "name": "stdout",
     "output_type": "stream",
     "text": [
      "(1.25, 'حکومەت', 'حکۊمت')\n"
     ]
    },
    {
     "name": "stderr",
     "output_type": "stream",
     "text": [
      "\r",
      "  0%|          | 9/17240 [00:08<4:44:24,  1.01it/s]"
     ]
    },
    {
     "name": "stdout",
     "output_type": "stream",
     "text": [
      "(1.0, 'حکومەت', 'حکومت')\n"
     ]
    },
    {
     "name": "stderr",
     "output_type": "stream",
     "text": [
      "  0%|          | 47/17240 [00:47<4:43:32,  1.01it/s]"
     ]
    },
    {
     "name": "stdout",
     "output_type": "stream",
     "text": [
      "(0.0, 'حوکومت', 'حوکومت')\n",
      "(1.0, 'حوکومت', 'حوکومته')\n",
      "(1.5, 'حوکومت', 'حۊکۊمتي')\n",
      "(0.5, 'حوکومت', 'حۊکۊمت')\n",
      "(1.25, 'حوکومت', 'حکۊمت')\n"
     ]
    },
    {
     "name": "stderr",
     "output_type": "stream",
     "text": [
      "\r",
      "  0%|          | 48/17240 [00:48<4:32:49,  1.05it/s]"
     ]
    },
    {
     "name": "stdout",
     "output_type": "stream",
     "text": [
      "(0.5, 'حوکومت', 'حؤکۊمت')\n",
      "(1.0, 'حوکومت', 'حکومت')\n"
     ]
    },
    {
     "name": "stderr",
     "output_type": "stream",
     "text": [
      "  0%|          | 57/17240 [00:59<6:18:51,  1.32s/it]"
     ]
    },
    {
     "name": "stdout",
     "output_type": "stream",
     "text": [
      "(0.0, 'دریای', 'دریای')\n",
      "(1.0, 'دریای', 'دریا')\n"
     ]
    },
    {
     "name": "stderr",
     "output_type": "stream",
     "text": [
      "  0%|          | 64/17240 [01:04<3:55:02,  1.22it/s]"
     ]
    },
    {
     "name": "stdout",
     "output_type": "stream",
     "text": [
      "(1.25, 'ئارد', 'ياد')\n",
      "(1.0, 'ئارد', 'ارد')\n",
      "(1.5, 'ئارد', 'نيأرد')\n",
      "(1.5, 'ئارد', 'بيأرد')\n"
     ]
    },
    {
     "name": "stderr",
     "output_type": "stream",
     "text": [
      "  0%|          | 66/17240 [01:06<3:22:41,  1.41it/s]"
     ]
    },
    {
     "name": "stdout",
     "output_type": "stream",
     "text": [
      "(1.25, 'ترو', 'ترؤر')\n",
      "(1.25, 'ترو', 'مترؤ')\n"
     ]
    },
    {
     "name": "stderr",
     "output_type": "stream",
     "text": [
      "  0%|          | 75/17240 [01:15<4:20:11,  1.10it/s]"
     ]
    },
    {
     "name": "stdout",
     "output_type": "stream",
     "text": [
      "(1.0, 'گۆران', 'گران')\n"
     ]
    },
    {
     "name": "stderr",
     "output_type": "stream",
     "text": [
      "  1%|          | 92/17240 [01:34<4:57:20,  1.04s/it]"
     ]
    },
    {
     "name": "stdout",
     "output_type": "stream",
     "text": [
      "(1.0, 'وزیاد', 'زیاد')\n"
     ]
    },
    {
     "name": "stderr",
     "output_type": "stream",
     "text": [
      "  1%|          | 94/17240 [01:36<5:20:24,  1.12s/it]"
     ]
    },
    {
     "name": "stdout",
     "output_type": "stream",
     "text": [
      "(1.0, 'کوڕه', 'کوه')\n",
      "(1.25, 'کوڕه', 'کۊه')\n"
     ]
    },
    {
     "name": "stderr",
     "output_type": "stream",
     "text": [
      "  1%|          | 107/17240 [01:50<5:49:59,  1.23s/it]"
     ]
    },
    {
     "name": "stdout",
     "output_type": "stream",
     "text": [
      "(1.0, 'تەنها', 'تنها')\n"
     ]
    },
    {
     "name": "stderr",
     "output_type": "stream",
     "text": [
      "  1%|          | 109/17240 [01:51<4:16:35,  1.11it/s]"
     ]
    },
    {
     "name": "stdout",
     "output_type": "stream",
     "text": [
      "(1.0, 'زەرد', 'زرد')\n"
     ]
    },
    {
     "name": "stderr",
     "output_type": "stream",
     "text": [
      "  1%|          | 117/17240 [02:00<5:24:01,  1.14s/it]"
     ]
    },
    {
     "name": "stdout",
     "output_type": "stream",
     "text": [
      "(1.25, 'نوسی', 'وصی')\n"
     ]
    },
    {
     "name": "stderr",
     "output_type": "stream",
     "text": [
      "\r",
      "  1%|          | 118/17240 [02:00<4:38:05,  1.03it/s]"
     ]
    },
    {
     "name": "stdout",
     "output_type": "stream",
     "text": [
      "(1.25, 'ئیلامن', 'ایلام')\n"
     ]
    },
    {
     "name": "stderr",
     "output_type": "stream",
     "text": [
      "  1%|          | 134/17240 [02:21<6:57:33,  1.46s/it]"
     ]
    },
    {
     "name": "stdout",
     "output_type": "stream",
     "text": [
      "(1.0, 'ادق', 'صادق')\n"
     ]
    },
    {
     "name": "stderr",
     "output_type": "stream",
     "text": [
      "  1%|          | 140/17240 [02:30<7:39:02,  1.61s/it]"
     ]
    },
    {
     "name": "stdout",
     "output_type": "stream",
     "text": [
      "(1.25, 'ئێسک', 'اسک')\n"
     ]
    },
    {
     "name": "stderr",
     "output_type": "stream",
     "text": [
      "  1%|          | 143/17240 [02:32<5:00:19,  1.05s/it]"
     ]
    },
    {
     "name": "stdout",
     "output_type": "stream",
     "text": [
      "(1.0, 'جیای', 'جای')\n"
     ]
    },
    {
     "name": "stderr",
     "output_type": "stream",
     "text": [
      "  1%|          | 145/17240 [02:35<4:56:03,  1.04s/it]"
     ]
    },
    {
     "name": "stdout",
     "output_type": "stream",
     "text": [
      "(1.0, 'نوفت', 'نفت')\n"
     ]
    },
    {
     "name": "stderr",
     "output_type": "stream",
     "text": [
      "  1%|          | 147/17240 [02:37<5:18:53,  1.12s/it]"
     ]
    },
    {
     "name": "stdout",
     "output_type": "stream",
     "text": [
      "(0.0, 'بان', 'بان')\n",
      "(1.25, 'بان', 'بنين')\n",
      "(1.0, 'بان', 'آبان')\n",
      "(1.0, 'بان', 'بانو')\n",
      "(1.25, 'بان', 'بيتن')\n",
      "(1.25, 'بان', 'بدأن')\n",
      "(1.0, 'بان', 'بیان')\n",
      "(1.25, 'بان', 'بخأن')\n",
      "(1.0, 'بان', 'باني')\n",
      "(1.25, 'بان', 'بنأن')\n",
      "(0.25, 'بان', 'بين')\n",
      "(1.25, 'بان', 'بئسن')\n",
      "(1.25, 'بان', 'بدئن')\n",
      "(1.0, 'بان', 'ببان')\n",
      "(1.25, 'بان', 'بدين')\n",
      "(1.25, 'بان', 'بئنه')\n",
      "(1.25, 'بان', 'بأني')\n",
      "(1.0, 'بان', 'بانی')\n",
      "(1.0, 'بان', 'زبان')\n",
      "(1.25, 'بان', 'بنئن')\n"
     ]
    },
    {
     "name": "stderr",
     "output_type": "stream",
     "text": [
      "  1%|          | 160/17240 [02:50<4:46:30,  1.01s/it]"
     ]
    },
    {
     "name": "stdout",
     "output_type": "stream",
     "text": [
      "(1.25, 'داس', 'ديسم')\n"
     ]
    },
    {
     "name": "stderr",
     "output_type": "stream",
     "text": [
      "  1%|          | 175/17240 [03:07<4:40:54,  1.01it/s]"
     ]
    },
    {
     "name": "stdout",
     "output_type": "stream",
     "text": [
      "(1.25, 'ببوو', 'ببؤ')\n",
      "(1.0, 'ببوو', 'ببو')\n"
     ]
    },
    {
     "name": "stderr",
     "output_type": "stream",
     "text": [
      "  1%|          | 180/17240 [03:12<5:16:42,  1.11s/it]"
     ]
    },
    {
     "name": "stdout",
     "output_type": "stream",
     "text": [
      "(1.25, 'ئیدارەی', 'ایداری')\n"
     ]
    },
    {
     "name": "stderr",
     "output_type": "stream",
     "text": [
      "  1%|          | 182/17240 [03:15<5:38:19,  1.19s/it]"
     ]
    },
    {
     "name": "stdout",
     "output_type": "stream",
     "text": [
      "(1.25, 'شاعره', 'شأره')\n",
      "(1.0, 'شاعره', 'شاعر')\n",
      "(1.25, 'شاعره', 'شيعه')\n"
     ]
    },
    {
     "name": "stderr",
     "output_type": "stream",
     "text": [
      "  1%|          | 201/17240 [03:35<5:31:38,  1.17s/it]"
     ]
    },
    {
     "name": "stdout",
     "output_type": "stream",
     "text": [
      "(1.25, 'ئیحساس', 'احساس')\n"
     ]
    },
    {
     "name": "stderr",
     "output_type": "stream",
     "text": [
      "  1%|          | 213/17240 [03:48<4:48:12,  1.02s/it]"
     ]
    },
    {
     "name": "stdout",
     "output_type": "stream",
     "text": [
      "(1.0, 'چیتر', 'چیتگر')\n"
     ]
    },
    {
     "name": "stderr",
     "output_type": "stream",
     "text": [
      "  1%|▏         | 234/17240 [04:10<5:30:15,  1.17s/it]"
     ]
    },
    {
     "name": "stdout",
     "output_type": "stream",
     "text": [
      "(1.0, 'سعودی', 'سعدی')\n"
     ]
    },
    {
     "name": "stderr",
     "output_type": "stream",
     "text": [
      "\r",
      "  1%|▏         | 235/17240 [04:11<4:53:00,  1.03s/it]"
     ]
    },
    {
     "name": "stdout",
     "output_type": "stream",
     "text": [
      "(1.0, 'سعودی', 'مسعودی')\n"
     ]
    },
    {
     "name": "stderr",
     "output_type": "stream",
     "text": [
      "  1%|▏         | 255/17240 [04:31<4:33:50,  1.03it/s]"
     ]
    },
    {
     "name": "stdout",
     "output_type": "stream",
     "text": [
      "(1.0, 'جوانی', 'جوان')\n"
     ]
    },
    {
     "name": "stderr",
     "output_type": "stream",
     "text": [
      "  1%|▏         | 258/17240 [04:34<4:51:03,  1.03s/it]"
     ]
    },
    {
     "name": "stdout",
     "output_type": "stream",
     "text": [
      "(1.25, 'سورئ', 'سرا')\n",
      "(1.75, 'سورئ', 'صبۊري')\n",
      "(1.25, 'سورئ', 'سرأ')\n"
     ]
    },
    {
     "name": "stderr",
     "output_type": "stream",
     "text": [
      "\r",
      "  2%|▏         | 259/17240 [04:35<4:14:37,  1.11it/s]"
     ]
    },
    {
     "name": "stdout",
     "output_type": "stream",
     "text": [
      "(1.25, 'سورئ', 'سري')\n",
      "(1.5, 'سورئ', 'سۊريه')\n"
     ]
    },
    {
     "name": "stderr",
     "output_type": "stream",
     "text": [
      "  2%|▏         | 275/17240 [04:51<4:08:52,  1.14it/s]"
     ]
    },
    {
     "name": "stdout",
     "output_type": "stream",
     "text": [
      "(1.0, 'کوڕی', 'کوی')\n"
     ]
    },
    {
     "name": "stderr",
     "output_type": "stream",
     "text": [
      "  2%|▏         | 291/17240 [05:08<4:20:21,  1.08it/s]"
     ]
    },
    {
     "name": "stdout",
     "output_type": "stream",
     "text": [
      "(1.0, 'عومەر', 'عومر')\n"
     ]
    },
    {
     "name": "stderr",
     "output_type": "stream",
     "text": [
      "  2%|▏         | 296/17240 [05:14<5:16:04,  1.12s/it]"
     ]
    },
    {
     "name": "stdout",
     "output_type": "stream",
     "text": [
      "(0.0, 'خانی', 'خانی')\n",
      "(1.0, 'خانی', 'خانیه')\n",
      "(1.0, 'خانی', 'انی')\n",
      "(1.0, 'خانی', 'خان')\n"
     ]
    },
    {
     "name": "stderr",
     "output_type": "stream",
     "text": [
      "  2%|▏         | 302/17240 [05:20<5:06:01,  1.08s/it]"
     ]
    },
    {
     "name": "stdout",
     "output_type": "stream",
     "text": [
      "(0.0, 'تاج', 'تاج')\n",
      "(1.0, 'تاج', 'تاجر')\n",
      "(1.0, 'تاج', 'نتاج')\n"
     ]
    },
    {
     "name": "stderr",
     "output_type": "stream",
     "text": [
      "  2%|▏         | 324/17240 [05:42<5:29:57,  1.17s/it]"
     ]
    },
    {
     "name": "stdout",
     "output_type": "stream",
     "text": [
      "(1.25, 'کابولە', 'کابؤل')\n"
     ]
    },
    {
     "name": "stderr",
     "output_type": "stream",
     "text": [
      "  2%|▏         | 335/17240 [05:55<5:47:56,  1.23s/it]"
     ]
    },
    {
     "name": "stdout",
     "output_type": "stream",
     "text": [
      "(1.5, 'ئارادا', 'ايرادان')\n"
     ]
    },
    {
     "name": "stderr",
     "output_type": "stream",
     "text": [
      "  2%|▏         | 337/17240 [05:57<4:27:22,  1.05it/s]"
     ]
    },
    {
     "name": "stdout",
     "output_type": "stream",
     "text": [
      "(1.0, 'گۆلی', 'گلی')\n"
     ]
    },
    {
     "name": "stderr",
     "output_type": "stream",
     "text": [
      "  2%|▏         | 346/17240 [06:06<5:26:24,  1.16s/it]"
     ]
    },
    {
     "name": "stdout",
     "output_type": "stream",
     "text": [
      "(1.0, 'ماڵه', 'ماه')\n"
     ]
    },
    {
     "name": "stderr",
     "output_type": "stream",
     "text": [
      "  2%|▏         | 349/17240 [06:08<4:09:37,  1.13it/s]"
     ]
    },
    {
     "name": "stdout",
     "output_type": "stream",
     "text": [
      "(1.0, 'شکۆی', 'شکی')\n"
     ]
    },
    {
     "name": "stderr",
     "output_type": "stream",
     "text": [
      "  2%|▏         | 354/17240 [06:15<5:02:32,  1.08s/it]"
     ]
    },
    {
     "name": "stdout",
     "output_type": "stream",
     "text": [
      "(1.0, 'مەتن', 'متن')\n"
     ]
    },
    {
     "name": "stderr",
     "output_type": "stream",
     "text": [
      "  2%|▏         | 358/17240 [06:18<4:22:37,  1.07it/s]"
     ]
    },
    {
     "name": "stdout",
     "output_type": "stream",
     "text": [
      "(1.0, 'لوه', 'قلوه')\n"
     ]
    },
    {
     "name": "stderr",
     "output_type": "stream",
     "text": [
      "  2%|▏         | 364/17240 [06:26<5:37:28,  1.20s/it]"
     ]
    },
    {
     "name": "stdout",
     "output_type": "stream",
     "text": [
      "(1.25, 'باشه', 'بيه')\n"
     ]
    },
    {
     "name": "stderr",
     "output_type": "stream",
     "text": [
      "  2%|▏         | 382/17240 [06:46<4:22:26,  1.07it/s]"
     ]
    },
    {
     "name": "stdout",
     "output_type": "stream",
     "text": [
      "(1.25, 'تەوری', 'طوری')\n"
     ]
    },
    {
     "name": "stderr",
     "output_type": "stream",
     "text": [
      "  2%|▏         | 393/17240 [06:58<5:18:14,  1.13s/it]"
     ]
    },
    {
     "name": "stdout",
     "output_type": "stream",
     "text": [
      "(1.5, 'چوو', 'چۊتؤ')\n"
     ]
    },
    {
     "name": "stderr",
     "output_type": "stream",
     "text": [
      "\r",
      "  2%|▏         | 394/17240 [06:58<4:22:29,  1.07it/s]"
     ]
    },
    {
     "name": "stdout",
     "output_type": "stream",
     "text": [
      "(1.0, 'چوو', 'چوتو')\n"
     ]
    },
    {
     "name": "stderr",
     "output_type": "stream",
     "text": [
      "  2%|▏         | 406/17240 [07:09<4:34:26,  1.02it/s]"
     ]
    },
    {
     "name": "stdout",
     "output_type": "stream",
     "text": [
      "(1.0, 'ڕامان', 'امان')\n"
     ]
    },
    {
     "name": "stderr",
     "output_type": "stream",
     "text": [
      "\r",
      "  2%|▏         | 407/17240 [07:09<4:10:43,  1.12it/s]"
     ]
    },
    {
     "name": "stdout",
     "output_type": "stream",
     "text": [
      "(1.5, 'ڕامان', 'أمأن')\n"
     ]
    },
    {
     "name": "stderr",
     "output_type": "stream",
     "text": [
      "  2%|▏         | 411/17240 [07:13<4:03:47,  1.15it/s]"
     ]
    },
    {
     "name": "stdout",
     "output_type": "stream",
     "text": [
      "(1.0, 'وەلی', 'ولی')\n"
     ]
    },
    {
     "name": "stderr",
     "output_type": "stream",
     "text": [
      "  2%|▏         | 415/17240 [07:16<4:22:38,  1.07it/s]"
     ]
    },
    {
     "name": "stdout",
     "output_type": "stream",
     "text": [
      "(1.0, 'مولک', 'ملک')\n"
     ]
    },
    {
     "name": "stderr",
     "output_type": "stream",
     "text": [
      "  2%|▏         | 421/17240 [07:22<4:18:21,  1.09it/s]"
     ]
    },
    {
     "name": "stdout",
     "output_type": "stream",
     "text": [
      "(1.0, 'کێشی', 'کشی')\n"
     ]
    },
    {
     "name": "stderr",
     "output_type": "stream",
     "text": [
      "  3%|▎         | 432/17240 [07:31<4:18:39,  1.08it/s]"
     ]
    },
    {
     "name": "stdout",
     "output_type": "stream",
     "text": [
      "(1.0, 'موسای', 'موسی')\n"
     ]
    },
    {
     "name": "stderr",
     "output_type": "stream",
     "text": [
      "\r",
      "  3%|▎         | 433/17240 [07:32<3:59:58,  1.17it/s]"
     ]
    },
    {
     "name": "stdout",
     "output_type": "stream",
     "text": [
      "(1.25, 'موسای', 'مۊسی')\n"
     ]
    },
    {
     "name": "stderr",
     "output_type": "stream",
     "text": [
      "  3%|▎         | 442/17240 [07:39<5:00:09,  1.07s/it]"
     ]
    },
    {
     "name": "stdout",
     "output_type": "stream",
     "text": [
      "(1.0, 'فەرش', 'فرش')\n"
     ]
    },
    {
     "name": "stderr",
     "output_type": "stream",
     "text": [
      "  3%|▎         | 452/17240 [07:49<5:01:45,  1.08s/it]"
     ]
    },
    {
     "name": "stdout",
     "output_type": "stream",
     "text": [
      "(1.0, 'گەشت', 'گشت')\n"
     ]
    },
    {
     "name": "stderr",
     "output_type": "stream",
     "text": [
      "  3%|▎         | 465/17240 [08:02<4:48:55,  1.03s/it]"
     ]
    },
    {
     "name": "stdout",
     "output_type": "stream",
     "text": [
      "(0.0, 'انه', 'انه')\n",
      "(1.25, 'انه', 'مئنه')\n",
      "(1.25, 'انه', 'دئنه')\n",
      "(1.25, 'انه', 'کئنه')\n",
      "(1.0, 'انه', 'تانه')\n",
      "(1.25, 'انه', 'خأنه')\n",
      "(1.0, 'انه', 'دانه')\n",
      "(1.25, 'انه', 'تينه')\n",
      "(1.25, 'انه', 'مأنه')\n",
      "(1.0, 'انه', 'انکه')\n",
      "(1.25, 'انه', 'دأنه')\n",
      "(1.0, 'انه', 'اینه')\n",
      "(1.0, 'انه', 'اونه')\n",
      "(1.25, 'انه', 'گينه')\n",
      "(1.0, 'انه', 'اشنه')\n",
      "(1.25, 'انه', 'بئنه')\n",
      "(1.25, 'انه', 'شأنه')\n",
      "(1.25, 'انه', 'تأنه')\n",
      "(1.0, 'انه', 'خانه')\n",
      "(1.25, 'انه', 'رينه')\n",
      "(1.0, 'انه', 'اۊنه')\n",
      "(1.25, 'انه', 'دينه')\n",
      "(1.25, 'انه', 'هأنه')\n",
      "(0.25, 'انه', 'أنه')\n",
      "(1.0, 'انه', 'اينه')\n"
     ]
    },
    {
     "name": "stderr",
     "output_type": "stream",
     "text": [
      "  3%|▎         | 473/17240 [08:09<3:55:53,  1.18it/s]"
     ]
    },
    {
     "name": "stdout",
     "output_type": "stream",
     "text": [
      "(0.25, 'ئیلام', 'ایلام')\n",
      "(1.25, 'ئیلام', 'ایسلام')\n"
     ]
    },
    {
     "name": "stderr",
     "output_type": "stream",
     "text": [
      "\r",
      "  3%|▎         | 474/17240 [08:10<3:43:16,  1.25it/s]"
     ]
    },
    {
     "name": "stdout",
     "output_type": "stream",
     "text": [
      "(1.25, 'ئیلام', 'ایلامی')\n"
     ]
    },
    {
     "name": "stderr",
     "output_type": "stream",
     "text": [
      "  3%|▎         | 477/17240 [08:12<3:47:20,  1.23it/s]"
     ]
    },
    {
     "name": "stdout",
     "output_type": "stream",
     "text": [
      "(1.5, 'ماڵان', 'ميئن')\n"
     ]
    },
    {
     "name": "stderr",
     "output_type": "stream",
     "text": [
      "  3%|▎         | 484/17240 [08:19<4:39:59,  1.00s/it]"
     ]
    },
    {
     "name": "stdout",
     "output_type": "stream",
     "text": [
      "(1.5, 'ئارای', 'ياري')\n"
     ]
    },
    {
     "name": "stderr",
     "output_type": "stream",
     "text": [
      "\r",
      "  3%|▎         | 485/17240 [08:20<4:14:20,  1.10it/s]"
     ]
    },
    {
     "name": "stdout",
     "output_type": "stream",
     "text": [
      "(1.25, 'ئیرانە', 'ایران')\n"
     ]
    },
    {
     "name": "stderr",
     "output_type": "stream",
     "text": [
      "  3%|▎         | 507/17240 [08:43<4:25:30,  1.05it/s]"
     ]
    },
    {
     "name": "stdout",
     "output_type": "stream",
     "text": [
      "(1.5, 'مئسر', 'اثر')\n",
      "(1.25, 'مئسر', 'مأر')\n",
      "(1.25, 'مئسر', 'مصر')\n",
      "(1.25, 'مئسر', 'مار')\n",
      "(1.5, 'مئسر', 'أثر')\n",
      "(1.25, 'مئسر', 'مير')\n"
     ]
    },
    {
     "name": "stderr",
     "output_type": "stream",
     "text": [
      "\r",
      "  3%|▎         | 508/17240 [08:44<3:56:18,  1.18it/s]"
     ]
    },
    {
     "name": "stdout",
     "output_type": "stream",
     "text": [
      "(1.25, 'مئسر', 'مارسر')\n",
      "(1.5, 'مئسر', 'معاصر')\n"
     ]
    },
    {
     "name": "stderr",
     "output_type": "stream",
     "text": [
      "\r",
      "  3%|▎         | 509/17240 [08:45<3:57:51,  1.17it/s]"
     ]
    },
    {
     "name": "stdout",
     "output_type": "stream",
     "text": [
      "(1.25, 'شان', 'شئون')\n",
      "(1.0, 'شان', 'اشان')\n",
      "(1.0, 'شان', 'نشان')\n",
      "(0.25, 'شان', 'شين')\n",
      "(1.0, 'شان', 'خشان')\n",
      "(1.25, 'شان', 'شأنه')\n"
     ]
    },
    {
     "name": "stderr",
     "output_type": "stream",
     "text": [
      "\r",
      "  3%|▎         | 510/17240 [08:45<3:27:38,  1.34it/s]"
     ]
    },
    {
     "name": "stdout",
     "output_type": "stream",
     "text": [
      "(1.0, 'شان', 'أشان')\n"
     ]
    },
    {
     "name": "stderr",
     "output_type": "stream",
     "text": [
      "  3%|▎         | 522/17240 [08:59<4:56:43,  1.06s/it]"
     ]
    },
    {
     "name": "stdout",
     "output_type": "stream",
     "text": [
      "(0.0, 'نشینی', 'نشینی')\n",
      "(1.0, 'نشینی', 'نشین')\n"
     ]
    },
    {
     "name": "stderr",
     "output_type": "stream",
     "text": [
      "  3%|▎         | 525/17240 [09:02<4:41:53,  1.01s/it]"
     ]
    },
    {
     "name": "stdout",
     "output_type": "stream",
     "text": [
      "(1.25, 'زمانن', 'زئنن')\n",
      "(1.0, 'زمانن', 'زمان')\n"
     ]
    },
    {
     "name": "stderr",
     "output_type": "stream",
     "text": [
      "  3%|▎         | 530/17240 [09:06<3:26:57,  1.35it/s]"
     ]
    },
    {
     "name": "stdout",
     "output_type": "stream",
     "text": [
      "(0.5, 'گورو', 'گؤرۊ')\n"
     ]
    },
    {
     "name": "stderr",
     "output_type": "stream",
     "text": [
      "  3%|▎         | 533/17240 [09:09<4:29:26,  1.03it/s]"
     ]
    },
    {
     "name": "stdout",
     "output_type": "stream",
     "text": [
      "(1.25, 'ناتقی', 'مناطقی')\n"
     ]
    },
    {
     "name": "stderr",
     "output_type": "stream",
     "text": [
      "\r",
      "  3%|▎         | 534/17240 [09:10<4:09:35,  1.12it/s]"
     ]
    },
    {
     "name": "stdout",
     "output_type": "stream",
     "text": [
      "(0.0, 'سیستانی', 'سیستانی')\n"
     ]
    },
    {
     "name": "stderr",
     "output_type": "stream",
     "text": [
      "  3%|▎         | 564/17240 [09:47<6:46:20,  1.46s/it]"
     ]
    },
    {
     "name": "stdout",
     "output_type": "stream",
     "text": [
      "(1.0, 'کارڵ', 'کار')\n"
     ]
    },
    {
     "name": "stderr",
     "output_type": "stream",
     "text": [
      "  3%|▎         | 567/17240 [09:50<5:08:45,  1.11s/it]"
     ]
    },
    {
     "name": "stdout",
     "output_type": "stream",
     "text": [
      "(1.0, 'چشمە', 'چشم')\n"
     ]
    },
    {
     "name": "stderr",
     "output_type": "stream",
     "text": [
      "  3%|▎         | 575/17240 [09:58<4:53:09,  1.06s/it]"
     ]
    },
    {
     "name": "stdout",
     "output_type": "stream",
     "text": [
      "(0.0, 'رسول', 'رسول')\n"
     ]
    },
    {
     "name": "stderr",
     "output_type": "stream",
     "text": [
      "  3%|▎         | 580/17240 [10:01<3:46:53,  1.22it/s]"
     ]
    },
    {
     "name": "stdout",
     "output_type": "stream",
     "text": [
      "(1.0, 'میرانی', 'میانی')\n",
      "(1.0, 'میرانی', 'میران')\n"
     ]
    },
    {
     "name": "stderr",
     "output_type": "stream",
     "text": [
      "\r",
      "  3%|▎         | 581/17240 [10:02<3:52:00,  1.20it/s]"
     ]
    },
    {
     "name": "stdout",
     "output_type": "stream",
     "text": [
      "(1.0, 'میرانی', 'خمیرانی')\n"
     ]
    },
    {
     "name": "stderr",
     "output_type": "stream",
     "text": [
      "  3%|▎         | 583/17240 [10:04<4:18:24,  1.07it/s]"
     ]
    },
    {
     "name": "stdout",
     "output_type": "stream",
     "text": [
      "(1.0, 'تەسلیم', 'تسلیم')\n"
     ]
    },
    {
     "name": "stderr",
     "output_type": "stream",
     "text": [
      "  3%|▎         | 597/17240 [10:19<4:50:21,  1.05s/it]"
     ]
    },
    {
     "name": "stdout",
     "output_type": "stream",
     "text": [
      "(1.25, 'برا', 'طبري')\n",
      "(1.25, 'برا', 'برئی')\n",
      "(1.0, 'برا', 'برار')\n",
      "(1.0, 'برا', 'براز')\n",
      "(1.25, 'برا', 'برأر')\n"
     ]
    },
    {
     "name": "stderr",
     "output_type": "stream",
     "text": [
      "\r",
      "  3%|▎         | 598/17240 [10:20<4:01:05,  1.15it/s]"
     ]
    },
    {
     "name": "stdout",
     "output_type": "stream",
     "text": [
      "(1.0, 'برا', 'بشرا')\n",
      "(1.0, 'برا', 'برای')\n",
      "(1.25, 'برا', 'برخي')\n",
      "(1.0, 'برا', 'برپا')\n",
      "(1.25, 'برا', 'تبري')\n",
      "(1.0, 'دروست', 'دروس')\n",
      "(1.0, 'دروست', 'دروسته')\n",
      "(1.0, 'دروست', 'دوست')\n"
     ]
    },
    {
     "name": "stderr",
     "output_type": "stream",
     "text": [
      "  4%|▎         | 604/17240 [10:25<4:07:30,  1.12it/s]"
     ]
    },
    {
     "name": "stdout",
     "output_type": "stream",
     "text": [
      "(1.25, 'ساڵت', 'صات')\n"
     ]
    },
    {
     "name": "stderr",
     "output_type": "stream",
     "text": [
      "  4%|▎         | 617/17240 [10:37<4:21:25,  1.06it/s]"
     ]
    },
    {
     "name": "stdout",
     "output_type": "stream",
     "text": [
      "(1.0, 'کانی', 'انی')\n",
      "(1.0, 'کانی', 'کسانی')\n"
     ]
    },
    {
     "name": "stderr",
     "output_type": "stream",
     "text": [
      "  4%|▎         | 624/17240 [10:46<5:40:11,  1.23s/it]"
     ]
    },
    {
     "name": "stdout",
     "output_type": "stream",
     "text": [
      "(1.0, 'شای', 'شامی')\n",
      "(1.0, 'شای', 'شاقی')\n"
     ]
    },
    {
     "name": "stderr",
     "output_type": "stream",
     "text": [
      "  4%|▎         | 628/17240 [10:50<4:40:15,  1.01s/it]"
     ]
    },
    {
     "name": "stdout",
     "output_type": "stream",
     "text": [
      "(1.0, 'چەندان', 'چندان')\n"
     ]
    },
    {
     "name": "stderr",
     "output_type": "stream",
     "text": [
      "  4%|▎         | 639/17240 [11:05<5:51:02,  1.27s/it]"
     ]
    },
    {
     "name": "stdout",
     "output_type": "stream",
     "text": [
      "(1.25, 'ئیرل', 'ایل')\n",
      "(1.25, 'ئیرل', 'ایر')\n"
     ]
    },
    {
     "name": "stderr",
     "output_type": "stream",
     "text": [
      "  4%|▍         | 648/17240 [11:12<3:52:04,  1.19it/s]"
     ]
    },
    {
     "name": "stdout",
     "output_type": "stream",
     "text": [
      "(1.0, 'نەخش', 'نخش')\n"
     ]
    },
    {
     "name": "stderr",
     "output_type": "stream",
     "text": [
      "  4%|▍         | 661/17240 [11:27<5:21:08,  1.16s/it]"
     ]
    },
    {
     "name": "stdout",
     "output_type": "stream",
     "text": [
      "(1.0, 'پیا', 'پیلا')\n",
      "(1.0, 'پیا', 'پیاز')\n",
      "(1.0, 'پیا', 'پیام')\n"
     ]
    },
    {
     "name": "stderr",
     "output_type": "stream",
     "text": [
      "\r",
      "  4%|▍         | 662/17240 [11:28<4:28:50,  1.03it/s]"
     ]
    },
    {
     "name": "stdout",
     "output_type": "stream",
     "text": [
      "(1.0, 'پیا', 'پیدا')\n"
     ]
    },
    {
     "name": "stderr",
     "output_type": "stream",
     "text": [
      "  4%|▍         | 674/17240 [11:42<4:29:04,  1.03it/s]"
     ]
    },
    {
     "name": "stdout",
     "output_type": "stream",
     "text": [
      "(1.25, 'زاینی', 'تزئینی')\n"
     ]
    },
    {
     "name": "stderr",
     "output_type": "stream",
     "text": [
      "  4%|▍         | 684/17240 [11:54<6:01:24,  1.31s/it]"
     ]
    },
    {
     "name": "stdout",
     "output_type": "stream",
     "text": [
      "(1.0, 'کاریان', 'کاران')\n"
     ]
    },
    {
     "name": "stderr",
     "output_type": "stream",
     "text": [
      "  4%|▍         | 713/17240 [12:28<6:57:39,  1.52s/it]"
     ]
    },
    {
     "name": "stdout",
     "output_type": "stream",
     "text": [
      "(1.0, 'زمانیی', 'زمانی')\n"
     ]
    },
    {
     "name": "stderr",
     "output_type": "stream",
     "text": [
      "  4%|▍         | 724/17240 [12:44<5:43:31,  1.25s/it]"
     ]
    },
    {
     "name": "stdout",
     "output_type": "stream",
     "text": [
      "(0.0, 'موقع', 'موقع')\n"
     ]
    },
    {
     "name": "stderr",
     "output_type": "stream",
     "text": [
      "\r",
      "  4%|▍         | 725/17240 [12:44<4:47:59,  1.05s/it]"
     ]
    },
    {
     "name": "stdout",
     "output_type": "stream",
     "text": [
      "(0.25, 'موقع', 'مؤقع')\n"
     ]
    },
    {
     "name": "stderr",
     "output_type": "stream",
     "text": [
      "  4%|▍         | 729/17240 [12:49<4:56:15,  1.08s/it]"
     ]
    },
    {
     "name": "stdout",
     "output_type": "stream",
     "text": [
      "(1.0, 'پارسی', 'پارس')\n"
     ]
    },
    {
     "name": "stderr",
     "output_type": "stream",
     "text": [
      "\r",
      "  4%|▍         | 730/17240 [12:49<4:30:47,  1.02it/s]"
     ]
    },
    {
     "name": "stdout",
     "output_type": "stream",
     "text": [
      "(1.0, 'پارسی', 'پاری')\n"
     ]
    },
    {
     "name": "stderr",
     "output_type": "stream",
     "text": [
      "  4%|▍         | 749/17240 [13:08<4:18:55,  1.06it/s]"
     ]
    },
    {
     "name": "stdout",
     "output_type": "stream",
     "text": [
      "(1.0, 'کان', 'کاهن')\n",
      "(1.0, 'کان', 'مکان')\n",
      "(1.25, 'کان', 'کئنه')\n",
      "(1.0, 'کان', 'کسان')\n"
     ]
    },
    {
     "name": "stderr",
     "output_type": "stream",
     "text": [
      "\r",
      "  4%|▍         | 750/17240 [13:09<3:38:31,  1.26it/s]"
     ]
    },
    {
     "name": "stdout",
     "output_type": "stream",
     "text": [
      "(1.0, 'کان', 'کیان')\n",
      "(1.0, 'کان', 'کلان')\n"
     ]
    },
    {
     "name": "stderr",
     "output_type": "stream",
     "text": [
      "  4%|▍         | 767/17240 [13:27<4:39:08,  1.02s/it]"
     ]
    },
    {
     "name": "stdout",
     "output_type": "stream",
     "text": [
      "(0.0, 'جنوبی', 'جنوبی')\n",
      "(1.0, 'جنوبی', 'جنوب')\n",
      "(1.0, 'جنوبی', 'جنوبیه')\n"
     ]
    },
    {
     "name": "stderr",
     "output_type": "stream",
     "text": [
      "  4%|▍         | 769/17240 [13:29<4:22:25,  1.05it/s]"
     ]
    },
    {
     "name": "stdout",
     "output_type": "stream",
     "text": [
      "(1.0, 'لەکی', 'لکی')\n"
     ]
    },
    {
     "name": "stderr",
     "output_type": "stream",
     "text": [
      "  4%|▍         | 774/17240 [13:34<5:06:22,  1.12s/it]"
     ]
    },
    {
     "name": "stdout",
     "output_type": "stream",
     "text": [
      "(1.25, 'زخال', 'ذال')\n",
      "(1.0, 'زخال', 'خال')\n"
     ]
    },
    {
     "name": "stderr",
     "output_type": "stream",
     "text": [
      "  5%|▍         | 790/17240 [13:53<5:31:33,  1.21s/it]"
     ]
    },
    {
     "name": "stdout",
     "output_type": "stream",
     "text": [
      "(1.0, 'جاری', 'تجاری')\n",
      "(1.25, 'جاری', 'جير')\n",
      "(1.0, 'جاری', 'جار')\n"
     ]
    },
    {
     "name": "stderr",
     "output_type": "stream",
     "text": [
      "\r",
      "  5%|▍         | 791/17240 [13:53<4:37:36,  1.01s/it]"
     ]
    },
    {
     "name": "stdout",
     "output_type": "stream",
     "text": [
      "(1.0, 'جاری', 'جای')\n",
      "(1.0, 'فحه', 'فتحه')\n"
     ]
    },
    {
     "name": "stderr",
     "output_type": "stream",
     "text": [
      "  5%|▍         | 821/17240 [14:30<5:58:47,  1.31s/it]"
     ]
    },
    {
     "name": "stdout",
     "output_type": "stream",
     "text": [
      "(1.0, 'فاسی', 'فارسی')\n"
     ]
    },
    {
     "name": "stderr",
     "output_type": "stream",
     "text": [
      "  5%|▍         | 836/17240 [14:56<8:09:13,  1.79s/it]"
     ]
    },
    {
     "name": "stdout",
     "output_type": "stream",
     "text": [
      "(1.25, 'وشک', 'خۊشک')\n",
      "(1.0, 'وشک', 'ويشک')\n"
     ]
    },
    {
     "name": "stderr",
     "output_type": "stream",
     "text": [
      "  5%|▍         | 840/17240 [15:00<6:31:53,  1.43s/it]"
     ]
    },
    {
     "name": "stdout",
     "output_type": "stream",
     "text": [
      "(0.0, 'باشی', 'باشی')\n"
     ]
    },
    {
     "name": "stderr",
     "output_type": "stream",
     "text": [
      "\r",
      "  5%|▍         | 841/17240 [15:01<5:53:27,  1.29s/it]"
     ]
    },
    {
     "name": "stdout",
     "output_type": "stream",
     "text": [
      "(1.0, 'بانگی', 'بانی')\n"
     ]
    },
    {
     "name": "stderr",
     "output_type": "stream",
     "text": [
      "\r",
      "  5%|▍         | 842/17240 [15:02<5:33:18,  1.22s/it]"
     ]
    },
    {
     "name": "stdout",
     "output_type": "stream",
     "text": [
      "(0.0, 'ملی', 'ملی')\n",
      "(1.0, 'ملی', 'ملیج')\n",
      "(1.0, 'ملی', 'محلی')\n",
      "(1.0, 'ملی', 'آملی')\n"
     ]
    },
    {
     "name": "stderr",
     "output_type": "stream",
     "text": [
      "  5%|▍         | 847/17240 [15:08<4:51:34,  1.07s/it]"
     ]
    },
    {
     "name": "stdout",
     "output_type": "stream",
     "text": [
      "(1.0, 'ھاوین', 'اوین')\n"
     ]
    },
    {
     "name": "stderr",
     "output_type": "stream",
     "text": [
      "  5%|▌         | 882/17240 [15:43<4:29:04,  1.01it/s]"
     ]
    },
    {
     "name": "stdout",
     "output_type": "stream",
     "text": [
      "(1.25, 'عامر', 'أمر')\n",
      "(1.0, 'عامر', 'عمر')\n"
     ]
    },
    {
     "name": "stderr",
     "output_type": "stream",
     "text": [
      "  5%|▌         | 902/17240 [16:06<5:32:18,  1.22s/it]"
     ]
    },
    {
     "name": "stdout",
     "output_type": "stream",
     "text": [
      "(1.0, 'شەمس', 'شمس')\n"
     ]
    },
    {
     "name": "stderr",
     "output_type": "stream",
     "text": [
      "  5%|▌         | 915/17240 [16:18<3:47:35,  1.20it/s]"
     ]
    },
    {
     "name": "stdout",
     "output_type": "stream",
     "text": [
      "(1.25, 'لووت', 'وؤت')\n"
     ]
    },
    {
     "name": "stderr",
     "output_type": "stream",
     "text": [
      "  5%|▌         | 920/17240 [16:23<4:00:27,  1.13it/s]"
     ]
    },
    {
     "name": "stdout",
     "output_type": "stream",
     "text": [
      "(1.5, 'ناگا', 'نيأ')\n",
      "(0.25, 'ناگا', 'نيگا')\n"
     ]
    },
    {
     "name": "stderr",
     "output_type": "stream",
     "text": [
      "  5%|▌         | 925/17240 [16:28<4:47:52,  1.06s/it]"
     ]
    },
    {
     "name": "stdout",
     "output_type": "stream",
     "text": [
      "(0.0, 'علیه', 'علیه')\n"
     ]
    },
    {
     "name": "stderr",
     "output_type": "stream",
     "text": [
      "\r",
      "  5%|▌         | 926/17240 [16:29<4:06:06,  1.10it/s]"
     ]
    },
    {
     "name": "stdout",
     "output_type": "stream",
     "text": [
      "(1.0, 'علیه', 'علی')\n"
     ]
    },
    {
     "name": "stderr",
     "output_type": "stream",
     "text": [
      "  5%|▌         | 933/17240 [16:36<4:36:04,  1.02s/it]"
     ]
    },
    {
     "name": "stdout",
     "output_type": "stream",
     "text": [
      "(1.25, 'ناڵه', 'نئه')\n",
      "(1.25, 'ناڵه', 'نيه')\n"
     ]
    },
    {
     "name": "stderr",
     "output_type": "stream",
     "text": [
      "  6%|▌         | 949/17240 [16:51<3:40:17,  1.23it/s]"
     ]
    },
    {
     "name": "stdout",
     "output_type": "stream",
     "text": [
      "(1.0, 'خوا', 'خواه')\n",
      "(1.5, 'خوا', 'خؤشي')\n",
      "(1.0, 'خوا', 'خودا')\n",
      "(1.0, 'خوا', 'خواص')\n"
     ]
    },
    {
     "name": "stderr",
     "output_type": "stream",
     "text": [
      "  6%|▌         | 952/17240 [16:53<2:44:22,  1.65it/s]"
     ]
    },
    {
     "name": "stdout",
     "output_type": "stream",
     "text": [
      "(1.0, 'میش', 'همیش')\n"
     ]
    },
    {
     "name": "stderr",
     "output_type": "stream",
     "text": [
      "  6%|▌         | 970/17240 [17:10<3:23:26,  1.33it/s]"
     ]
    },
    {
     "name": "stdout",
     "output_type": "stream",
     "text": [
      "(0.0, 'خولی', 'خولی')\n",
      "(1.25, 'خولی', 'خۊی')\n",
      "(1.0, 'خولی', 'خوی')\n",
      "(1.0, 'خولی', 'ولی')\n"
     ]
    },
    {
     "name": "stderr",
     "output_type": "stream",
     "text": [
      "  6%|▌         | 973/17240 [17:13<4:00:17,  1.13it/s]"
     ]
    },
    {
     "name": "stdout",
     "output_type": "stream",
     "text": [
      "(1.75, 'ئوردون', 'اؤردۊ')\n"
     ]
    },
    {
     "name": "stderr",
     "output_type": "stream",
     "text": [
      "  6%|▌         | 980/17240 [17:20<3:58:40,  1.14it/s]"
     ]
    },
    {
     "name": "stdout",
     "output_type": "stream",
     "text": [
      "(1.0, 'کێوی', 'کوی')\n"
     ]
    },
    {
     "name": "stderr",
     "output_type": "stream",
     "text": [
      "  6%|▌         | 984/17240 [17:24<4:06:18,  1.10it/s]"
     ]
    },
    {
     "name": "stdout",
     "output_type": "stream",
     "text": [
      "(1.0, 'عێراق', 'عراق')\n"
     ]
    },
    {
     "name": "stderr",
     "output_type": "stream",
     "text": [
      "  6%|▌         | 992/17240 [17:30<3:40:52,  1.23it/s]"
     ]
    },
    {
     "name": "stdout",
     "output_type": "stream",
     "text": [
      "(1.0, 'گەنج', 'گنج')\n"
     ]
    },
    {
     "name": "stderr",
     "output_type": "stream",
     "text": [
      "  6%|▌         | 1005/17240 [17:43<3:44:04,  1.21it/s]"
     ]
    },
    {
     "name": "stdout",
     "output_type": "stream",
     "text": [
      "(1.5, 'لامدا', 'ليدي')\n"
     ]
    },
    {
     "name": "stderr",
     "output_type": "stream",
     "text": [
      "  6%|▌         | 1007/17240 [17:44<3:36:40,  1.25it/s]"
     ]
    },
    {
     "name": "stdout",
     "output_type": "stream",
     "text": [
      "(1.25, 'داڕشت', 'دأشت')\n",
      "(1.0, 'داڕشت', 'داشت')\n"
     ]
    },
    {
     "name": "stderr",
     "output_type": "stream",
     "text": [
      "  6%|▌         | 1011/17240 [17:49<4:36:03,  1.02s/it]"
     ]
    },
    {
     "name": "stdout",
     "output_type": "stream",
     "text": [
      "(1.0, 'دۆرسی', 'درسی')\n"
     ]
    },
    {
     "name": "stderr",
     "output_type": "stream",
     "text": [
      "  6%|▌         | 1036/17240 [18:13<4:35:05,  1.02s/it]"
     ]
    },
    {
     "name": "stdout",
     "output_type": "stream",
     "text": [
      "(0.0, 'کرا', 'کرا')\n",
      "(1.25, 'کرا', 'کارأ')\n",
      "(1.0, 'کرا', 'کورا')\n",
      "(1.0, 'کرا', 'کارا')\n"
     ]
    },
    {
     "name": "stderr",
     "output_type": "stream",
     "text": [
      "\r",
      "  6%|▌         | 1037/17240 [18:14<3:46:45,  1.19it/s]"
     ]
    },
    {
     "name": "stdout",
     "output_type": "stream",
     "text": [
      "(1.0, 'کرا', 'کۊرا')\n"
     ]
    },
    {
     "name": "stderr",
     "output_type": "stream",
     "text": [
      "  6%|▌         | 1040/17240 [18:17<4:05:39,  1.10it/s]"
     ]
    },
    {
     "name": "stdout",
     "output_type": "stream",
     "text": [
      "(1.0, 'وته', 'وکته')\n",
      "(1.25, 'وته', 'سۊته')\n",
      "(1.0, 'وته', 'وسته')\n",
      "(1.25, 'وته', 'بؤته')\n",
      "(1.25, 'وته', 'گۊته')\n",
      "(1.25, 'وته', 'هۊته')\n"
     ]
    },
    {
     "name": "stderr",
     "output_type": "stream",
     "text": [
      "\r",
      "  6%|▌         | 1041/17240 [18:17<3:26:56,  1.30it/s]"
     ]
    },
    {
     "name": "stdout",
     "output_type": "stream",
     "text": [
      "(1.25, 'وته', 'دۊته')\n"
     ]
    },
    {
     "name": "stderr",
     "output_type": "stream",
     "text": [
      "  6%|▌         | 1060/17240 [18:36<4:23:22,  1.02it/s]"
     ]
    },
    {
     "name": "stdout",
     "output_type": "stream",
     "text": [
      "(1.0, 'کردن', 'کوردن')\n",
      "(1.0, 'کردن', 'کرد')\n"
     ]
    },
    {
     "name": "stderr",
     "output_type": "stream",
     "text": [
      "  6%|▌         | 1066/17240 [18:41<4:08:32,  1.08it/s]"
     ]
    },
    {
     "name": "stdout",
     "output_type": "stream",
     "text": [
      "(0.0, 'شده', 'شده')\n"
     ]
    },
    {
     "name": "stderr",
     "output_type": "stream",
     "text": [
      "  6%|▌         | 1076/17240 [18:53<4:11:48,  1.07it/s]"
     ]
    },
    {
     "name": "stdout",
     "output_type": "stream",
     "text": [
      "(1.25, 'شاره', 'شأر-ه')\n",
      "(0.25, 'شاره', 'شأره')\n",
      "(1.0, 'شاره', 'شماره')\n",
      "(1.0, 'شاره', 'اشاره')\n",
      "(1.25, 'شاره', 'شئر')\n",
      "(1.25, 'شاره', 'شئه')\n",
      "(1.25, 'شاره', 'شأر')\n",
      "(1.0, 'شاره', 'شاه')\n"
     ]
    },
    {
     "name": "stderr",
     "output_type": "stream",
     "text": [
      "  6%|▋         | 1081/17240 [18:58<5:02:28,  1.12s/it]"
     ]
    },
    {
     "name": "stdout",
     "output_type": "stream",
     "text": [
      "(0.0, 'باخ', 'باخ')\n",
      "(1.0, 'باخ', 'باخی')\n"
     ]
    },
    {
     "name": "stderr",
     "output_type": "stream",
     "text": [
      "\r",
      "  6%|▋         | 1082/17240 [18:59<4:06:56,  1.09it/s]"
     ]
    },
    {
     "name": "stdout",
     "output_type": "stream",
     "text": [
      "(1.0, 'باخ', 'باخي')\n"
     ]
    },
    {
     "name": "stderr",
     "output_type": "stream",
     "text": [
      "  6%|▋         | 1096/17240 [19:14<4:52:38,  1.09s/it]"
     ]
    },
    {
     "name": "stdout",
     "output_type": "stream",
     "text": [
      "(1.0, 'کوردی', 'کردی')\n",
      "(1.0, 'کوردی', 'کودی')\n",
      "(1.25, 'کوردی', 'کۊرد')\n"
     ]
    },
    {
     "name": "stderr",
     "output_type": "stream",
     "text": [
      "  6%|▋         | 1111/17240 [19:29<4:14:42,  1.06it/s]"
     ]
    },
    {
     "name": "stdout",
     "output_type": "stream",
     "text": [
      "(1.25, 'شاریان', 'شأران')\n"
     ]
    },
    {
     "name": "stderr",
     "output_type": "stream",
     "text": [
      "  7%|▋         | 1123/17240 [19:42<5:10:32,  1.16s/it]"
     ]
    },
    {
     "name": "stdout",
     "output_type": "stream",
     "text": [
      "(1.0, 'باشەی', 'باشی')\n"
     ]
    },
    {
     "name": "stderr",
     "output_type": "stream",
     "text": [
      "  7%|▋         | 1139/17240 [19:56<3:19:46,  1.34it/s]"
     ]
    },
    {
     "name": "stdout",
     "output_type": "stream",
     "text": [
      "(1.0, 'قیاسی', 'قیسی')\n"
     ]
    },
    {
     "name": "stderr",
     "output_type": "stream",
     "text": [
      "\r",
      "  7%|▋         | 1140/17240 [19:57<3:13:14,  1.39it/s]"
     ]
    },
    {
     "name": "stdout",
     "output_type": "stream",
     "text": [
      "(0.0, 'فارسی', 'فارسی')\n",
      "(1.0, 'فارسی', 'فارس')\n",
      "(1.25, 'فارسی', 'فأرس')\n"
     ]
    },
    {
     "name": "stderr",
     "output_type": "stream",
     "text": [
      "  7%|▋         | 1145/17240 [20:01<4:08:28,  1.08it/s]"
     ]
    },
    {
     "name": "stdout",
     "output_type": "stream",
     "text": [
      "(1.25, 'راگه', 'أگه')\n",
      "(1.0, 'راگه', 'راه')\n"
     ]
    },
    {
     "name": "stderr",
     "output_type": "stream",
     "text": [
      "\r",
      "  7%|▋         | 1146/17240 [20:02<3:42:52,  1.20it/s]"
     ]
    },
    {
     "name": "stdout",
     "output_type": "stream",
     "text": [
      "(1.0, 'راگه', 'اگه')\n"
     ]
    },
    {
     "name": "stderr",
     "output_type": "stream",
     "text": [
      "  7%|▋         | 1160/17240 [20:17<4:33:11,  1.02s/it]"
     ]
    },
    {
     "name": "stdout",
     "output_type": "stream",
     "text": [
      "(1.0, 'چیتای', 'چیتی')\n"
     ]
    },
    {
     "name": "stderr",
     "output_type": "stream",
     "text": [
      "  7%|▋         | 1162/17240 [20:19<3:55:35,  1.14it/s]"
     ]
    },
    {
     "name": "stdout",
     "output_type": "stream",
     "text": [
      "(1.25, 'سار', 'أسير')\n",
      "(1.0, 'سار', 'ساری')\n",
      "(1.25, 'سار', 'صارا')\n",
      "(1.0, 'سار', 'ساري')\n"
     ]
    },
    {
     "name": "stderr",
     "output_type": "stream",
     "text": [
      "\r",
      "  7%|▋         | 1163/17240 [20:19<3:19:33,  1.34it/s]"
     ]
    },
    {
     "name": "stdout",
     "output_type": "stream",
     "text": [
      "(1.5, 'سار', 'أثير')\n",
      "(1.0, 'سار', 'سارد')\n",
      "(1.25, 'سار', 'آثار')\n",
      "(1.25, 'سار', 'مسير')\n",
      "(1.25, 'سار', 'حصار')\n",
      "(1.0, 'سار', 'سایر')\n"
     ]
    },
    {
     "name": "stderr",
     "output_type": "stream",
     "text": [
      "  7%|▋         | 1165/17240 [20:21<3:31:05,  1.27it/s]"
     ]
    },
    {
     "name": "stdout",
     "output_type": "stream",
     "text": [
      "(1.0, 'توانای', 'توانا')\n"
     ]
    },
    {
     "name": "stderr",
     "output_type": "stream",
     "text": [
      "  7%|▋         | 1178/17240 [20:33<3:55:11,  1.14it/s]"
     ]
    },
    {
     "name": "stdout",
     "output_type": "stream",
     "text": [
      "(1.25, 'امه', 'فأمه')\n",
      "(1.0, 'امه', 'ايمه')\n",
      "(1.0, 'امه', 'نامه')\n",
      "(1.0, 'امه', 'امشه')\n",
      "(1.0, 'امه', 'امره')\n",
      "(0.25, 'امه', 'أمه')\n",
      "(1.25, 'امه', 'أمره')\n",
      "(1.0, 'امه', 'ائمه')\n"
     ]
    },
    {
     "name": "stderr",
     "output_type": "stream",
     "text": [
      "\r",
      "  7%|▋         | 1179/17240 [20:33<3:21:08,  1.33it/s]"
     ]
    },
    {
     "name": "stdout",
     "output_type": "stream",
     "text": [
      "(1.25, 'امه', 'ديمه')\n"
     ]
    },
    {
     "name": "stderr",
     "output_type": "stream",
     "text": [
      "  7%|▋         | 1189/17240 [20:43<4:08:58,  1.07it/s]"
     ]
    },
    {
     "name": "stdout",
     "output_type": "stream",
     "text": [
      "(1.0, 'هەزار', 'هزار')\n"
     ]
    },
    {
     "name": "stderr",
     "output_type": "stream",
     "text": [
      "  7%|▋         | 1194/17240 [20:48<3:55:02,  1.14it/s]"
     ]
    },
    {
     "name": "stdout",
     "output_type": "stream",
     "text": [
      "(1.25, 'بوابه', 'بؤبه')\n",
      "(1.25, 'بوابه', 'بويه')\n",
      "(1.5, 'بوابه', 'بۊيه')\n"
     ]
    },
    {
     "name": "stderr",
     "output_type": "stream",
     "text": [
      "  7%|▋         | 1209/17240 [21:03<5:04:38,  1.14s/it]"
     ]
    },
    {
     "name": "stdout",
     "output_type": "stream",
     "text": [
      "(1.25, 'ئیسه', 'أیه')\n",
      "(1.25, 'ئیسه', 'ایسمه')\n",
      "(1.25, 'ئیسه', 'ایه')\n",
      "(1.25, 'ئیسه', 'ایسسه')\n"
     ]
    },
    {
     "name": "stderr",
     "output_type": "stream",
     "text": [
      "\r",
      "  7%|▋         | 1210/17240 [21:04<4:18:27,  1.03it/s]"
     ]
    },
    {
     "name": "stdout",
     "output_type": "stream",
     "text": [
      "(0.25, 'ئیسه', 'ایسه')\n"
     ]
    },
    {
     "name": "stderr",
     "output_type": "stream",
     "text": [
      "  7%|▋         | 1226/17240 [21:21<5:24:16,  1.21s/it]"
     ]
    },
    {
     "name": "stdout",
     "output_type": "stream",
     "text": [
      "(1.25, 'لال', 'ليلي')\n",
      "(1.0, 'لال', 'لاله')\n",
      "(1.0, 'لال', 'جلال')\n",
      "(1.0, 'لال', 'هلال')\n"
     ]
    },
    {
     "name": "stderr",
     "output_type": "stream",
     "text": [
      "\r",
      "  7%|▋         | 1227/17240 [21:22<4:27:37,  1.00s/it]"
     ]
    },
    {
     "name": "stdout",
     "output_type": "stream",
     "text": [
      "(1.25, 'لال', 'دليل')\n"
     ]
    },
    {
     "name": "stderr",
     "output_type": "stream",
     "text": [
      "  7%|▋         | 1234/17240 [21:28<4:01:16,  1.11it/s]"
     ]
    },
    {
     "name": "stdout",
     "output_type": "stream",
     "text": [
      "(1.25, 'دانس', 'دأن')\n",
      "(1.25, 'دانس', 'دئن')\n",
      "(1.25, 'دانس', 'دين')\n",
      "(1.0, 'دانس', 'دان')\n"
     ]
    },
    {
     "name": "stderr",
     "output_type": "stream",
     "text": [
      "\r",
      "  7%|▋         | 1235/17240 [21:29<3:33:04,  1.25it/s]"
     ]
    },
    {
     "name": "stdout",
     "output_type": "stream",
     "text": [
      "(1.25, 'دانس', 'دأنکس')\n"
     ]
    },
    {
     "name": "stderr",
     "output_type": "stream",
     "text": [
      "  7%|▋         | 1244/17240 [21:37<4:08:49,  1.07it/s]"
     ]
    },
    {
     "name": "stdout",
     "output_type": "stream",
     "text": [
      "(1.0, 'بازەرگانی', 'بازرگانی')\n"
     ]
    },
    {
     "name": "stderr",
     "output_type": "stream",
     "text": [
      "  7%|▋         | 1252/17240 [21:48<5:21:33,  1.21s/it]"
     ]
    },
    {
     "name": "stdout",
     "output_type": "stream",
     "text": [
      "(0.0, 'داران', 'داران')\n",
      "(1.0, 'داران', 'دارن')\n",
      "(1.25, 'داران', 'درين')\n",
      "(1.0, 'داران', 'اداران')\n",
      "(1.5, 'داران', 'بدأرين')\n",
      "(1.0, 'داران', 'داوران')\n",
      "(1.25, 'داران', 'دأرن')\n",
      "(1.25, 'داران', 'ئران')\n"
     ]
    },
    {
     "name": "stderr",
     "output_type": "stream",
     "text": [
      "\r",
      "  7%|▋         | 1253/17240 [21:48<4:39:05,  1.05s/it]"
     ]
    },
    {
     "name": "stdout",
     "output_type": "stream",
     "text": [
      "(1.0, 'داران', 'اران')\n",
      "(1.0, 'داران', 'دارا')\n"
     ]
    },
    {
     "name": "stderr",
     "output_type": "stream",
     "text": [
      "\r",
      "  7%|▋         | 1254/17240 [21:49<4:36:37,  1.04s/it]"
     ]
    },
    {
     "name": "stdout",
     "output_type": "stream",
     "text": [
      "(1.5, 'ئاژه', 'أيه')\n"
     ]
    },
    {
     "name": "stderr",
     "output_type": "stream",
     "text": [
      "  7%|▋         | 1263/17240 [21:58<5:40:42,  1.28s/it]"
     ]
    },
    {
     "name": "stdout",
     "output_type": "stream",
     "text": [
      "(1.0, 'جوو', 'جولو')\n",
      "(1.5, 'جوو', 'جۊلؤ')\n"
     ]
    },
    {
     "name": "stderr",
     "output_type": "stream",
     "text": [
      "  7%|▋         | 1275/17240 [22:10<3:30:31,  1.26it/s]"
     ]
    },
    {
     "name": "stdout",
     "output_type": "stream",
     "text": [
      "(1.0, 'یری', 'گیری')\n",
      "(1.0, 'یری', 'یاری')\n"
     ]
    },
    {
     "name": "stderr",
     "output_type": "stream",
     "text": [
      "  7%|▋         | 1280/17240 [22:14<4:16:41,  1.04it/s]"
     ]
    },
    {
     "name": "stdout",
     "output_type": "stream",
     "text": [
      "(1.0, 'دکتۆر', 'دکتر')\n"
     ]
    },
    {
     "name": "stderr",
     "output_type": "stream",
     "text": [
      "  7%|▋         | 1287/17240 [22:21<4:34:50,  1.03s/it]"
     ]
    },
    {
     "name": "stdout",
     "output_type": "stream",
     "text": [
      "(1.0, 'بژین', 'بین')\n"
     ]
    },
    {
     "name": "stderr",
     "output_type": "stream",
     "text": [
      "  7%|▋         | 1291/17240 [22:26<4:59:36,  1.13s/it]"
     ]
    },
    {
     "name": "stdout",
     "output_type": "stream",
     "text": [
      "(1.25, 'قول', 'قبۊل')\n"
     ]
    },
    {
     "name": "stderr",
     "output_type": "stream",
     "text": [
      "\r",
      "  7%|▋         | 1292/17240 [22:26<4:03:31,  1.09it/s]"
     ]
    },
    {
     "name": "stdout",
     "output_type": "stream",
     "text": [
      "(1.0, 'قول', 'قبول')\n"
     ]
    },
    {
     "name": "stderr",
     "output_type": "stream",
     "text": [
      "  8%|▊         | 1316/17240 [22:54<4:28:45,  1.01s/it]"
     ]
    },
    {
     "name": "stdout",
     "output_type": "stream",
     "text": [
      "(1.0, 'دورگا', 'دورا')\n"
     ]
    },
    {
     "name": "stderr",
     "output_type": "stream",
     "text": [
      "  8%|▊         | 1319/17240 [22:57<4:27:49,  1.01s/it]"
     ]
    },
    {
     "name": "stdout",
     "output_type": "stream",
     "text": [
      "(1.0, 'دیاری', 'یاری')\n"
     ]
    },
    {
     "name": "stderr",
     "output_type": "stream",
     "text": [
      "\r",
      "  8%|▊         | 1320/17240 [22:57<4:03:45,  1.09it/s]"
     ]
    },
    {
     "name": "stdout",
     "output_type": "stream",
     "text": [
      "(1.0, 'دیاری', 'دیواری')\n"
     ]
    },
    {
     "name": "stderr",
     "output_type": "stream",
     "text": [
      "  8%|▊         | 1322/17240 [22:59<3:26:09,  1.29it/s]"
     ]
    },
    {
     "name": "stdout",
     "output_type": "stream",
     "text": [
      "(1.25, 'دوان', 'دأن')\n",
      "(1.25, 'دوان', 'دئن')\n",
      "(1.0, 'دوان', 'دیوان')\n",
      "(1.25, 'دوان', 'دين')\n",
      "(1.0, 'دوان', 'دان')\n",
      "(1.0, 'دوان', 'دوانی')\n",
      "(1.25, 'دوان', 'دؤن')\n",
      "(1.0, 'دوان', 'دوران')\n",
      "(1.5, 'دوان', 'دؤجئن')\n",
      "(1.0, 'دوان', 'دون')\n"
     ]
    },
    {
     "name": "stderr",
     "output_type": "stream",
     "text": [
      "\r",
      "  8%|▊         | 1323/17240 [22:59<3:09:55,  1.40it/s]"
     ]
    },
    {
     "name": "stdout",
     "output_type": "stream",
     "text": [
      "(1.25, 'دوان', 'دۊن')\n",
      "(1.5, 'دوان', 'دؤجين')\n"
     ]
    },
    {
     "name": "stderr",
     "output_type": "stream",
     "text": [
      "  8%|▊         | 1332/17240 [23:07<3:42:11,  1.19it/s]"
     ]
    },
    {
     "name": "stdout",
     "output_type": "stream",
     "text": [
      "(1.0, 'سانسکریتی', 'سانسکریت')\n"
     ]
    },
    {
     "name": "stderr",
     "output_type": "stream",
     "text": [
      "  8%|▊         | 1337/17240 [23:12<4:02:03,  1.09it/s]"
     ]
    },
    {
     "name": "stdout",
     "output_type": "stream",
     "text": [
      "(1.0, 'سێفید', 'سفید')\n"
     ]
    },
    {
     "name": "stderr",
     "output_type": "stream",
     "text": [
      "  8%|▊         | 1381/17240 [23:57<3:46:18,  1.17it/s]"
     ]
    },
    {
     "name": "stdout",
     "output_type": "stream",
     "text": [
      "(1.0, 'چراغ', 'راغ')\n"
     ]
    },
    {
     "name": "stderr",
     "output_type": "stream",
     "text": [
      "\r",
      "  8%|▊         | 1382/17240 [23:57<3:22:29,  1.31it/s]"
     ]
    },
    {
     "name": "stdout",
     "output_type": "stream",
     "text": [
      "(1.0, 'چراغ', 'چرا')\n"
     ]
    },
    {
     "name": "stderr",
     "output_type": "stream",
     "text": [
      "  8%|▊         | 1390/17240 [24:07<5:22:54,  1.22s/it]"
     ]
    },
    {
     "name": "stdout",
     "output_type": "stream",
     "text": [
      "(1.0, 'ریه', 'دریه')\n",
      "(1.0, 'ریه', 'ریشه')\n"
     ]
    },
    {
     "name": "stderr",
     "output_type": "stream",
     "text": [
      "\r",
      "  8%|▊         | 1391/17240 [24:07<4:21:30,  1.01it/s]"
     ]
    },
    {
     "name": "stdout",
     "output_type": "stream",
     "text": [
      "(1.0, 'ریه', 'ریزه')\n",
      "(1.0, 'ریه', 'ری-ه')\n",
      "(1.25, 'ئلی', 'هالی')\n",
      "(1.25, 'ئلی', 'خالی')\n",
      "(1.25, 'ئلی', 'والی')\n",
      "(1.25, 'ئلی', 'اصلی')\n"
     ]
    },
    {
     "name": "stderr",
     "output_type": "stream",
     "text": [
      "\r",
      "  8%|▊         | 1392/17240 [24:08<3:39:06,  1.21it/s]"
     ]
    },
    {
     "name": "stdout",
     "output_type": "stream",
     "text": [
      "(1.25, 'ئلی', 'اهلی')\n",
      "(1.25, 'ئلی', 'عالی')\n",
      "(1.25, 'ئلی', 'اولی')\n"
     ]
    },
    {
     "name": "stderr",
     "output_type": "stream",
     "text": [
      "  8%|▊         | 1398/17240 [24:13<4:21:32,  1.01it/s]"
     ]
    },
    {
     "name": "stdout",
     "output_type": "stream",
     "text": [
      "(1.0, 'ماما', 'اما')\n",
      "(1.25, 'ماما', 'ميم')\n",
      "(1.5, 'ماما', 'أمي')\n",
      "(1.5, 'ماما', 'أمأ')\n"
     ]
    },
    {
     "name": "stderr",
     "output_type": "stream",
     "text": [
      "  8%|▊         | 1406/17240 [24:19<3:45:39,  1.17it/s]"
     ]
    },
    {
     "name": "stdout",
     "output_type": "stream",
     "text": [
      "(1.25, 'وان', 'ۊنان')\n",
      "(1.25, 'وان', 'ويني')\n",
      "(1.0, 'وان', 'زوان')\n",
      "(1.25, 'وان', 'زؤان')\n"
     ]
    },
    {
     "name": "stderr",
     "output_type": "stream",
     "text": [
      "\r",
      "  8%|▊         | 1407/17240 [24:20<3:14:04,  1.36it/s]"
     ]
    },
    {
     "name": "stdout",
     "output_type": "stream",
     "text": [
      "(1.25, 'وان', 'وچئن')\n",
      "(1.0, 'وان', 'جوان')\n",
      "(1.0, 'وان', 'توان')\n"
     ]
    },
    {
     "name": "stderr",
     "output_type": "stream",
     "text": [
      "  8%|▊         | 1420/17240 [24:32<4:12:27,  1.04it/s]"
     ]
    },
    {
     "name": "stdout",
     "output_type": "stream",
     "text": [
      "(1.0, 'توانن', 'توان')\n"
     ]
    },
    {
     "name": "stderr",
     "output_type": "stream",
     "text": [
      "  8%|▊         | 1430/17240 [24:41<3:25:01,  1.29it/s]"
     ]
    },
    {
     "name": "stdout",
     "output_type": "stream",
     "text": [
      "(1.5, 'ئابی', 'صائبی')\n"
     ]
    },
    {
     "name": "stderr",
     "output_type": "stream",
     "text": [
      "  8%|▊         | 1455/17240 [25:07<5:58:09,  1.36s/it]"
     ]
    },
    {
     "name": "stdout",
     "output_type": "stream",
     "text": [
      "(1.0, 'نوور', 'نور')\n"
     ]
    },
    {
     "name": "stderr",
     "output_type": "stream",
     "text": [
      "\r",
      "  8%|▊         | 1456/17240 [25:07<4:55:00,  1.12s/it]"
     ]
    },
    {
     "name": "stdout",
     "output_type": "stream",
     "text": [
      "(1.25, 'نوور', 'نۊر')\n"
     ]
    },
    {
     "name": "stderr",
     "output_type": "stream",
     "text": [
      "  8%|▊         | 1461/17240 [25:13<5:22:09,  1.23s/it]"
     ]
    },
    {
     "name": "stdout",
     "output_type": "stream",
     "text": [
      "(1.25, 'شارە', 'شئر')\n",
      "(1.25, 'شارە', 'شأر')\n"
     ]
    },
    {
     "name": "stderr",
     "output_type": "stream",
     "text": [
      "\r",
      "  8%|▊         | 1462/17240 [25:14<4:30:01,  1.03s/it]"
     ]
    },
    {
     "name": "stdout",
     "output_type": "stream",
     "text": [
      "(1.5, 'ئاگرا', 'ياري')\n"
     ]
    },
    {
     "name": "stderr",
     "output_type": "stream",
     "text": [
      "  8%|▊         | 1465/17240 [25:16<3:33:25,  1.23it/s]"
     ]
    },
    {
     "name": "stdout",
     "output_type": "stream",
     "text": [
      "(1.5, 'المو', 'ألمۊت')\n"
     ]
    },
    {
     "name": "stderr",
     "output_type": "stream",
     "text": [
      "\r",
      "  9%|▊         | 1466/17240 [25:17<3:12:22,  1.37it/s]"
     ]
    },
    {
     "name": "stdout",
     "output_type": "stream",
     "text": [
      "(1.0, 'المو', 'امو')\n"
     ]
    },
    {
     "name": "stderr",
     "output_type": "stream",
     "text": [
      "\r",
      "  9%|▊         | 1467/17240 [25:17<3:26:06,  1.28it/s]"
     ]
    },
    {
     "name": "stdout",
     "output_type": "stream",
     "text": [
      "(1.0, 'خوانی', 'خانی')\n"
     ]
    },
    {
     "name": "stderr",
     "output_type": "stream",
     "text": [
      "  9%|▊         | 1473/17240 [25:23<4:15:12,  1.03it/s]"
     ]
    },
    {
     "name": "stdout",
     "output_type": "stream",
     "text": [
      "(1.25, 'خوراسانی', 'خۊراسان')\n"
     ]
    },
    {
     "name": "stderr",
     "output_type": "stream",
     "text": [
      "  9%|▊         | 1476/17240 [25:26<4:35:34,  1.05s/it]"
     ]
    },
    {
     "name": "stdout",
     "output_type": "stream",
     "text": [
      "(1.0, 'کەسانی', 'کسانی')\n"
     ]
    },
    {
     "name": "stderr",
     "output_type": "stream",
     "text": [
      "  9%|▉         | 1525/17240 [26:20<5:01:21,  1.15s/it]"
     ]
    },
    {
     "name": "stdout",
     "output_type": "stream",
     "text": [
      "(1.0, 'دامه', 'دام')\n",
      "(1.25, 'دامه', 'أمه')\n",
      "(1.25, 'دامه', 'دئه')\n",
      "(1.0, 'دامه', 'ادامه')\n"
     ]
    },
    {
     "name": "stderr",
     "output_type": "stream",
     "text": [
      "\r",
      "  9%|▉         | 1526/17240 [26:20<4:16:50,  1.02it/s]"
     ]
    },
    {
     "name": "stdout",
     "output_type": "stream",
     "text": [
      "(0.25, 'دامه', 'ديمه')\n"
     ]
    },
    {
     "name": "stderr",
     "output_type": "stream",
     "text": [
      "  9%|▉         | 1545/17240 [26:41<3:59:34,  1.09it/s]"
     ]
    },
    {
     "name": "stdout",
     "output_type": "stream",
     "text": [
      "(1.0, 'باشور', 'باور')\n",
      "(0.25, 'باشور', 'باشۊر')\n"
     ]
    },
    {
     "name": "stderr",
     "output_type": "stream",
     "text": [
      "  9%|▉         | 1552/17240 [26:47<4:11:44,  1.04it/s]"
     ]
    },
    {
     "name": "stdout",
     "output_type": "stream",
     "text": [
      "(1.0, 'بەکار', 'بکار')\n"
     ]
    },
    {
     "name": "stderr",
     "output_type": "stream",
     "text": [
      "  9%|▉         | 1555/17240 [26:51<5:57:39,  1.37s/it]"
     ]
    },
    {
     "name": "stdout",
     "output_type": "stream",
     "text": [
      "(0.0, 'خاک', 'خاک')\n",
      "(1.0, 'خاک', 'خاکا')\n"
     ]
    },
    {
     "name": "stderr",
     "output_type": "stream",
     "text": [
      "  9%|▉         | 1565/17240 [27:02<4:44:56,  1.09s/it]"
     ]
    },
    {
     "name": "stdout",
     "output_type": "stream",
     "text": [
      "(1.0, 'دوو', 'دوبو')\n",
      "(1.5, 'دوو', 'دۊبۊ')\n",
      "(1.25, 'دوو', 'دوؤم')\n"
     ]
    },
    {
     "name": "stderr",
     "output_type": "stream",
     "text": [
      "\r",
      "  9%|▉         | 1566/17240 [27:02<3:57:01,  1.10it/s]"
     ]
    },
    {
     "name": "stdout",
     "output_type": "stream",
     "text": [
      "(1.5, 'دوو', 'دؤبؤ')\n"
     ]
    },
    {
     "name": "stderr",
     "output_type": "stream",
     "text": [
      "  9%|▉         | 1573/17240 [27:10<4:51:44,  1.12s/it]"
     ]
    },
    {
     "name": "stdout",
     "output_type": "stream",
     "text": [
      "(1.0, 'بری', 'خبری')\n",
      "(1.0, 'بری', 'عبری')\n",
      "(1.0, 'بری', 'برئی')\n",
      "(1.0, 'بری', 'برخی')\n",
      "(1.0, 'بری', 'گبری')\n"
     ]
    },
    {
     "name": "stderr",
     "output_type": "stream",
     "text": [
      "\r",
      "  9%|▉         | 1574/17240 [27:10<3:57:48,  1.10it/s]"
     ]
    },
    {
     "name": "stdout",
     "output_type": "stream",
     "text": [
      "(1.0, 'بری', 'طبری')\n",
      "(1.0, 'بری', 'برای')\n",
      "(1.0, 'بری', 'ابری')\n"
     ]
    },
    {
     "name": "stderr",
     "output_type": "stream",
     "text": [
      "  9%|▉         | 1596/17240 [27:33<4:14:34,  1.02it/s]"
     ]
    },
    {
     "name": "stdout",
     "output_type": "stream",
     "text": [
      "(1.0, 'غازی', 'غاز')\n"
     ]
    },
    {
     "name": "stderr",
     "output_type": "stream",
     "text": [
      "  9%|▉         | 1632/17240 [28:10<3:56:57,  1.10it/s]"
     ]
    },
    {
     "name": "stdout",
     "output_type": "stream",
     "text": [
      "(1.25, 'پارسدا', 'پارسي')\n"
     ]
    },
    {
     "name": "stderr",
     "output_type": "stream",
     "text": [
      " 10%|▉         | 1649/17240 [28:33<5:21:43,  1.24s/it]"
     ]
    },
    {
     "name": "stdout",
     "output_type": "stream",
     "text": [
      "(1.25, 'دانێن', 'دأنن')\n",
      "(1.25, 'دانێن', 'دئنن')\n"
     ]
    },
    {
     "name": "stderr",
     "output_type": "stream",
     "text": [
      " 10%|▉         | 1658/17240 [28:42<3:38:10,  1.19it/s]"
     ]
    },
    {
     "name": "stdout",
     "output_type": "stream",
     "text": [
      "(1.0, 'گێلی', 'گلی')\n"
     ]
    },
    {
     "name": "stderr",
     "output_type": "stream",
     "text": [
      " 10%|▉         | 1664/17240 [28:48<4:10:40,  1.04it/s]"
     ]
    },
    {
     "name": "stdout",
     "output_type": "stream",
     "text": [
      "(1.0, 'چینیی', 'چینی')\n"
     ]
    },
    {
     "name": "stderr",
     "output_type": "stream",
     "text": [
      " 10%|▉         | 1668/17240 [28:53<5:13:51,  1.21s/it]"
     ]
    },
    {
     "name": "stdout",
     "output_type": "stream",
     "text": [
      "(1.0, 'کۆردی', 'کردی')\n"
     ]
    },
    {
     "name": "stderr",
     "output_type": "stream",
     "text": [
      " 10%|▉         | 1693/17240 [29:19<3:45:51,  1.15it/s]"
     ]
    },
    {
     "name": "stdout",
     "output_type": "stream",
     "text": [
      "(1.0, 'شوی', 'شوید')\n"
     ]
    },
    {
     "name": "stderr",
     "output_type": "stream",
     "text": [
      " 10%|▉         | 1695/17240 [29:22<4:53:21,  1.13s/it]"
     ]
    },
    {
     "name": "stdout",
     "output_type": "stream",
     "text": [
      "(1.25, 'ئیریان', 'ایران')\n"
     ]
    },
    {
     "name": "stderr",
     "output_type": "stream",
     "text": [
      " 10%|▉         | 1700/17240 [29:26<3:52:48,  1.11it/s]"
     ]
    },
    {
     "name": "stdout",
     "output_type": "stream",
     "text": [
      "(1.0, 'اینکه', 'انکه')\n",
      "(1.0, 'اینکه', 'اینه')\n"
     ]
    },
    {
     "name": "stderr",
     "output_type": "stream",
     "text": [
      " 10%|▉         | 1708/17240 [29:36<5:23:16,  1.25s/it]"
     ]
    },
    {
     "name": "stdout",
     "output_type": "stream",
     "text": [
      "(1.0, 'قودسی', 'قدسی')\n"
     ]
    },
    {
     "name": "stderr",
     "output_type": "stream",
     "text": [
      " 10%|█         | 1745/17240 [30:15<4:07:03,  1.05it/s]"
     ]
    },
    {
     "name": "stdout",
     "output_type": "stream",
     "text": [
      "(1.0, 'رووی', 'روی')\n"
     ]
    },
    {
     "name": "stderr",
     "output_type": "stream",
     "text": [
      " 10%|█         | 1754/17240 [30:23<3:54:58,  1.10it/s]"
     ]
    },
    {
     "name": "stdout",
     "output_type": "stream",
     "text": [
      "(1.0, 'کرند', 'کرد')\n"
     ]
    },
    {
     "name": "stderr",
     "output_type": "stream",
     "text": [
      " 10%|█         | 1768/17240 [30:38<4:48:53,  1.12s/it]"
     ]
    },
    {
     "name": "stdout",
     "output_type": "stream",
     "text": [
      "(1.25, 'حەتا', 'حتي')\n"
     ]
    },
    {
     "name": "stderr",
     "output_type": "stream",
     "text": [
      "\r",
      " 10%|█         | 1769/17240 [30:38<4:04:16,  1.06it/s]"
     ]
    },
    {
     "name": "stdout",
     "output_type": "stream",
     "text": [
      "(1.0, 'حەتا', 'حتا')\n"
     ]
    },
    {
     "name": "stderr",
     "output_type": "stream",
     "text": [
      " 10%|█         | 1771/17240 [30:40<3:40:27,  1.17it/s]"
     ]
    },
    {
     "name": "stdout",
     "output_type": "stream",
     "text": [
      "(0.0, 'مادی', 'مادی')\n",
      "(1.0, 'مادی', 'ماد')\n"
     ]
    },
    {
     "name": "stderr",
     "output_type": "stream",
     "text": [
      "\r",
      " 10%|█         | 1772/17240 [30:41<3:17:14,  1.31it/s]"
     ]
    },
    {
     "name": "stdout",
     "output_type": "stream",
     "text": [
      "(1.0, 'مادی', 'عمادی')\n"
     ]
    },
    {
     "name": "stderr",
     "output_type": "stream",
     "text": [
      " 10%|█         | 1782/17240 [30:50<3:36:49,  1.19it/s]"
     ]
    },
    {
     "name": "stdout",
     "output_type": "stream",
     "text": [
      "(1.0, 'بورکان', 'بوکان')\n"
     ]
    },
    {
     "name": "stderr",
     "output_type": "stream",
     "text": [
      " 10%|█         | 1786/17240 [30:53<3:45:16,  1.14it/s]"
     ]
    },
    {
     "name": "stdout",
     "output_type": "stream",
     "text": [
      "(1.25, 'بدات', 'بدأشت')\n",
      "(1.0, 'بدات', 'بدا')\n"
     ]
    },
    {
     "name": "stderr",
     "output_type": "stream",
     "text": [
      "\r",
      " 10%|█         | 1787/17240 [30:54<3:21:31,  1.28it/s]"
     ]
    },
    {
     "name": "stdout",
     "output_type": "stream",
     "text": [
      "(1.25, 'بدات', 'بدأ')\n",
      "(0.25, 'خوراسان', 'خۊراسان')\n",
      "(1.0, 'خوراسان', 'خراسان')\n"
     ]
    },
    {
     "name": "stderr",
     "output_type": "stream",
     "text": [
      " 10%|█         | 1790/17240 [30:57<3:19:14,  1.29it/s]"
     ]
    },
    {
     "name": "stdout",
     "output_type": "stream",
     "text": [
      "(1.25, 'داوا', 'ديا')\n",
      "(1.25, 'داوا', 'ديوار')\n"
     ]
    },
    {
     "name": "stderr",
     "output_type": "stream",
     "text": [
      " 11%|█         | 1824/17240 [31:29<3:06:39,  1.38it/s]"
     ]
    },
    {
     "name": "stdout",
     "output_type": "stream",
     "text": [
      "(1.0, 'شەعبان', 'شعبان')\n"
     ]
    },
    {
     "name": "stderr",
     "output_type": "stream",
     "text": [
      " 11%|█         | 1843/17240 [31:46<3:39:04,  1.17it/s]"
     ]
    },
    {
     "name": "stdout",
     "output_type": "stream",
     "text": [
      "(0.0, 'لیلا', 'لیلا')\n",
      "(1.0, 'لیلا', 'دلیلا')\n",
      "(1.0, 'لیلا', 'لیلان')\n"
     ]
    },
    {
     "name": "stderr",
     "output_type": "stream",
     "text": [
      " 11%|█         | 1854/17240 [31:57<4:27:51,  1.04s/it]"
     ]
    },
    {
     "name": "stdout",
     "output_type": "stream",
     "text": [
      "(1.0, 'میزا', 'میرزا')\n"
     ]
    },
    {
     "name": "stderr",
     "output_type": "stream",
     "text": [
      " 11%|█         | 1862/17240 [32:04<4:06:23,  1.04it/s]"
     ]
    },
    {
     "name": "stdout",
     "output_type": "stream",
     "text": [
      "(1.0, 'پاکستانە', 'پاکستان')\n"
     ]
    },
    {
     "name": "stderr",
     "output_type": "stream",
     "text": [
      " 11%|█         | 1931/17240 [33:13<3:24:55,  1.25it/s]"
     ]
    },
    {
     "name": "stdout",
     "output_type": "stream",
     "text": [
      "(1.25, 'کەونن', 'کۊنن')\n",
      "(1.25, 'کەونن', 'کؤنن')\n"
     ]
    },
    {
     "name": "stderr",
     "output_type": "stream",
     "text": [
      "\r",
      " 11%|█         | 1932/17240 [33:13<3:13:59,  1.32it/s]"
     ]
    },
    {
     "name": "stdout",
     "output_type": "stream",
     "text": [
      "(1.25, 'بونی', 'بؤن')\n",
      "(1.0, 'بونی', 'بون')\n",
      "(1.25, 'بونی', 'بۊن')\n",
      "(1.25, 'بونی', 'بؤی')\n"
     ]
    },
    {
     "name": "stderr",
     "output_type": "stream",
     "text": [
      "\r",
      " 11%|█         | 1933/17240 [33:14<2:57:43,  1.44it/s]"
     ]
    },
    {
     "name": "stdout",
     "output_type": "stream",
     "text": [
      "(1.25, 'بونی', 'بۊی')\n"
     ]
    },
    {
     "name": "stderr",
     "output_type": "stream",
     "text": [
      " 11%|█         | 1938/17240 [33:19<3:55:31,  1.08it/s]"
     ]
    },
    {
     "name": "stdout",
     "output_type": "stream",
     "text": [
      "(0.25, 'کول', 'کۊل')\n",
      "(1.0, 'کول', 'کولی')\n",
      "(1.25, 'کول', 'کۊله')\n"
     ]
    },
    {
     "name": "stderr",
     "output_type": "stream",
     "text": [
      "\r",
      " 11%|█         | 1939/17240 [33:19<3:17:38,  1.29it/s]"
     ]
    },
    {
     "name": "stdout",
     "output_type": "stream",
     "text": [
      "(1.25, 'کول', 'کتۊل')\n",
      "(1.0, 'کول', 'کولأ')\n"
     ]
    },
    {
     "name": "stderr",
     "output_type": "stream",
     "text": [
      " 11%|█▏        | 1960/17240 [33:40<4:01:45,  1.05it/s]"
     ]
    },
    {
     "name": "stdout",
     "output_type": "stream",
     "text": [
      "(1.0, 'بنی', 'مبنی')\n",
      "(1.0, 'بنی', 'بانی')\n",
      "(1.0, 'بنی', 'بنیم')\n"
     ]
    },
    {
     "name": "stderr",
     "output_type": "stream",
     "text": [
      "\r",
      " 11%|█▏        | 1961/17240 [33:40<3:22:14,  1.26it/s]"
     ]
    },
    {
     "name": "stdout",
     "output_type": "stream",
     "text": [
      "(1.0, 'بنی', 'بنای')\n"
     ]
    },
    {
     "name": "stderr",
     "output_type": "stream",
     "text": [
      " 11%|█▏        | 1964/17240 [33:43<3:14:12,  1.31it/s]"
     ]
    },
    {
     "name": "stdout",
     "output_type": "stream",
     "text": [
      "(1.25, 'ژان', 'ژينا')\n",
      "(1.0, 'ژان', 'ژاپن')\n"
     ]
    },
    {
     "name": "stderr",
     "output_type": "stream",
     "text": [
      " 12%|█▏        | 1987/17240 [34:05<4:12:26,  1.01it/s]"
     ]
    },
    {
     "name": "stdout",
     "output_type": "stream",
     "text": [
      "(1.0, 'حکومه', 'کومه')\n",
      "(1.0, 'حکومه', 'حومه')\n"
     ]
    },
    {
     "name": "stderr",
     "output_type": "stream",
     "text": [
      " 12%|█▏        | 1989/17240 [34:07<4:23:58,  1.04s/it]"
     ]
    },
    {
     "name": "stdout",
     "output_type": "stream",
     "text": [
      "(1.25, 'تورکی', 'طوری')\n",
      "(1.25, 'تورکی', 'تۊرکیه')\n",
      "(1.25, 'تورکی', 'تۊرک')\n"
     ]
    },
    {
     "name": "stderr",
     "output_type": "stream",
     "text": [
      "\r",
      " 12%|█▏        | 1990/17240 [34:08<3:56:16,  1.08it/s]"
     ]
    },
    {
     "name": "stdout",
     "output_type": "stream",
     "text": [
      "(1.0, 'تورکی', 'ترکی')\n"
     ]
    },
    {
     "name": "stderr",
     "output_type": "stream",
     "text": [
      " 12%|█▏        | 1992/17240 [34:10<4:31:47,  1.07s/it]"
     ]
    },
    {
     "name": "stdout",
     "output_type": "stream",
     "text": [
      "(0.0, 'تاجیکستان', 'تاجیکستان')\n"
     ]
    },
    {
     "name": "stderr",
     "output_type": "stream",
     "text": [
      " 12%|█▏        | 1994/17240 [34:12<4:06:51,  1.03it/s]"
     ]
    },
    {
     "name": "stdout",
     "output_type": "stream",
     "text": [
      "(1.0, 'واک', 'واکه')\n",
      "(1.25, 'واک', 'وأکش')\n"
     ]
    },
    {
     "name": "stderr",
     "output_type": "stream",
     "text": [
      "\r",
      " 12%|█▏        | 1995/17240 [34:13<3:25:30,  1.24it/s]"
     ]
    },
    {
     "name": "stdout",
     "output_type": "stream",
     "text": [
      "(1.25, 'واک', 'ويشک')\n"
     ]
    },
    {
     "name": "stderr",
     "output_type": "stream",
     "text": [
      " 12%|█▏        | 2003/17240 [34:21<4:29:20,  1.06s/it]"
     ]
    },
    {
     "name": "stdout",
     "output_type": "stream",
     "text": [
      "(1.25, 'ئورارتوو', 'اورارتو')\n"
     ]
    },
    {
     "name": "stderr",
     "output_type": "stream",
     "text": [
      " 12%|█▏        | 2019/17240 [34:37<3:11:31,  1.32it/s]"
     ]
    },
    {
     "name": "stdout",
     "output_type": "stream",
     "text": [
      "(1.0, 'پلشت', 'لشت')\n",
      "(1.0, 'پلشت', 'پشت')\n",
      "(1.0, 'پلشت', 'پلدشت')\n"
     ]
    },
    {
     "name": "stderr",
     "output_type": "stream",
     "text": [
      " 12%|█▏        | 2027/17240 [34:44<3:28:40,  1.22it/s]"
     ]
    },
    {
     "name": "stdout",
     "output_type": "stream",
     "text": [
      "(1.0, 'لیوا', 'لیوان')\n",
      "(1.25, 'نێان', 'نأن')\n",
      "(1.0, 'نێان', 'نان')\n"
     ]
    },
    {
     "name": "stderr",
     "output_type": "stream",
     "text": [
      " 12%|█▏        | 2030/17240 [34:46<3:16:40,  1.29it/s]"
     ]
    },
    {
     "name": "stdout",
     "output_type": "stream",
     "text": [
      "(0.0, 'میل', 'میل')\n"
     ]
    },
    {
     "name": "stderr",
     "output_type": "stream",
     "text": [
      " 12%|█▏        | 2055/17240 [35:07<2:47:17,  1.51it/s]"
     ]
    },
    {
     "name": "stdout",
     "output_type": "stream",
     "text": [
      "(1.0, 'مەزار', 'مزار')\n"
     ]
    },
    {
     "name": "stderr",
     "output_type": "stream",
     "text": [
      " 12%|█▏        | 2062/17240 [35:15<3:53:17,  1.08it/s]"
     ]
    },
    {
     "name": "stdout",
     "output_type": "stream",
     "text": [
      "(1.0, 'وردی', 'ورد')\n"
     ]
    },
    {
     "name": "stderr",
     "output_type": "stream",
     "text": [
      "\r",
      " 12%|█▏        | 2063/17240 [35:15<3:24:19,  1.24it/s]"
     ]
    },
    {
     "name": "stdout",
     "output_type": "stream",
     "text": [
      "(1.0, 'وردی', 'ورودی')\n"
     ]
    },
    {
     "name": "stderr",
     "output_type": "stream",
     "text": [
      " 12%|█▏        | 2069/17240 [35:21<3:46:26,  1.12it/s]"
     ]
    },
    {
     "name": "stdout",
     "output_type": "stream",
     "text": [
      "(1.0, 'یادە', 'یاد')\n"
     ]
    },
    {
     "name": "stderr",
     "output_type": "stream",
     "text": [
      " 12%|█▏        | 2084/17240 [35:36<3:31:52,  1.19it/s]"
     ]
    },
    {
     "name": "stdout",
     "output_type": "stream",
     "text": [
      "(1.0, 'دەریا', 'دریا')\n"
     ]
    },
    {
     "name": "stderr",
     "output_type": "stream",
     "text": [
      "\r",
      " 12%|█▏        | 2085/17240 [35:37<3:17:54,  1.28it/s]"
     ]
    },
    {
     "name": "stdout",
     "output_type": "stream",
     "text": [
      "(1.0, 'تەماشای', 'تماشای')\n"
     ]
    },
    {
     "name": "stderr",
     "output_type": "stream",
     "text": [
      " 12%|█▏        | 2127/17240 [36:24<4:34:33,  1.09s/it]"
     ]
    },
    {
     "name": "stdout",
     "output_type": "stream",
     "text": [
      "(1.25, 'ئیواره', 'ایوارده')\n"
     ]
    },
    {
     "name": "stderr",
     "output_type": "stream",
     "text": [
      " 12%|█▎        | 2155/17240 [36:52<4:21:04,  1.04s/it]"
     ]
    },
    {
     "name": "stdout",
     "output_type": "stream",
     "text": [
      "(0.0, 'یوسف', 'یوسف')\n"
     ]
    },
    {
     "name": "stderr",
     "output_type": "stream",
     "text": [
      " 13%|█▎        | 2206/17240 [37:38<4:25:21,  1.06s/it]"
     ]
    },
    {
     "name": "stdout",
     "output_type": "stream",
     "text": [
      "(1.5, 'ئاین', 'ائن')\n",
      "(1.0, 'ئاین', 'این')\n",
      "(1.5, 'ئاین', 'اين')\n"
     ]
    },
    {
     "name": "stderr",
     "output_type": "stream",
     "text": [
      " 13%|█▎        | 2214/17240 [37:46<4:22:12,  1.05s/it]"
     ]
    },
    {
     "name": "stdout",
     "output_type": "stream",
     "text": [
      "(1.25, 'نزمی', 'نظم')\n"
     ]
    },
    {
     "name": "stderr",
     "output_type": "stream",
     "text": [
      "\r",
      " 13%|█▎        | 2215/17240 [37:47<3:44:30,  1.12it/s]"
     ]
    },
    {
     "name": "stdout",
     "output_type": "stream",
     "text": [
      "(1.25, 'نزمی', 'نظامی')\n",
      "(1.0, 'نزمی', 'نمی')\n"
     ]
    },
    {
     "name": "stderr",
     "output_type": "stream",
     "text": [
      " 13%|█▎        | 2230/17240 [38:02<3:52:03,  1.08it/s]"
     ]
    },
    {
     "name": "stdout",
     "output_type": "stream",
     "text": [
      "(1.25, 'بوونه', 'بۊنه')\n",
      "(1.0, 'بوونه', 'بونه')\n",
      "(1.5, 'بوونه', 'بۊخؤنه')\n",
      "(1.0, 'بوونه', 'بوکونه')\n"
     ]
    },
    {
     "name": "stderr",
     "output_type": "stream",
     "text": [
      "\r",
      " 13%|█▎        | 2231/17240 [38:02<3:34:18,  1.17it/s]"
     ]
    },
    {
     "name": "stdout",
     "output_type": "stream",
     "text": [
      "(1.25, 'بوونه', 'بؤنه')\n",
      "(1.5, 'بوونه', 'بؤؤن')\n",
      "(1.5, 'بوونه', 'بۊکۊنه')\n",
      "(1.0, 'یانی', 'میانی')\n",
      "(1.0, 'یانی', 'انی')\n"
     ]
    },
    {
     "name": "stderr",
     "output_type": "stream",
     "text": [
      " 13%|█▎        | 2251/17240 [38:20<3:45:09,  1.11it/s]"
     ]
    },
    {
     "name": "stdout",
     "output_type": "stream",
     "text": [
      "(0.0, 'دال', 'دال')\n",
      "(0.25, 'دال', 'ديل')\n"
     ]
    },
    {
     "name": "stderr",
     "output_type": "stream",
     "text": [
      "\r",
      " 13%|█▎        | 2252/17240 [38:20<3:09:53,  1.32it/s]"
     ]
    },
    {
     "name": "stdout",
     "output_type": "stream",
     "text": [
      "(1.25, 'دال', 'ديلم')\n",
      "(1.25, 'دال', 'دليل')\n",
      "(1.0, 'دال', 'داخل')\n"
     ]
    },
    {
     "name": "stderr",
     "output_type": "stream",
     "text": [
      " 13%|█▎        | 2279/17240 [38:48<4:31:52,  1.09s/it]"
     ]
    },
    {
     "name": "stdout",
     "output_type": "stream",
     "text": [
      "(1.25, 'واسیق', 'وأسی')\n",
      "(1.0, 'واسیق', 'واسی')\n"
     ]
    },
    {
     "name": "stderr",
     "output_type": "stream",
     "text": [
      " 13%|█▎        | 2282/17240 [38:51<4:19:28,  1.04s/it]"
     ]
    },
    {
     "name": "stdout",
     "output_type": "stream",
     "text": [
      "(1.0, 'کران', 'کرا')\n",
      "(1.0, 'کران', 'کاران')\n",
      "(1.0, 'کران', 'کرمان')\n"
     ]
    },
    {
     "name": "stderr",
     "output_type": "stream",
     "text": [
      "\r",
      " 13%|█▎        | 2283/17240 [38:52<3:42:42,  1.12it/s]"
     ]
    },
    {
     "name": "stdout",
     "output_type": "stream",
     "text": [
      "(1.0, 'کران', 'ران')\n"
     ]
    },
    {
     "name": "stderr",
     "output_type": "stream",
     "text": [
      " 13%|█▎        | 2297/17240 [39:06<5:07:36,  1.24s/it]"
     ]
    },
    {
     "name": "stdout",
     "output_type": "stream",
     "text": [
      "(0.0, 'سان', 'سان')\n",
      "(1.0, 'سان', 'آسان')\n",
      "(1.0, 'سان', 'کسان')\n",
      "(1.25, 'سان', 'سينا')\n"
     ]
    },
    {
     "name": "stderr",
     "output_type": "stream",
     "text": [
      "\r",
      " 13%|█▎        | 2298/17240 [39:06<4:08:00,  1.00it/s]"
     ]
    },
    {
     "name": "stdout",
     "output_type": "stream",
     "text": [
      "(1.0, 'سان', 'سران')\n",
      "(1.0, 'سان', 'ساکن')\n",
      "(1.25, 'سان', 'رسئن')\n",
      "(1.25, 'سان', 'سرأن')\n",
      "(1.25, 'سان', 'حسين')\n",
      "(0.25, 'سان', 'سين')\n"
     ]
    },
    {
     "name": "stderr",
     "output_type": "stream",
     "text": [
      " 13%|█▎        | 2306/17240 [39:14<3:46:11,  1.10it/s]"
     ]
    },
    {
     "name": "stdout",
     "output_type": "stream",
     "text": [
      "(1.0, 'زەکی', 'زکی')\n"
     ]
    },
    {
     "name": "stderr",
     "output_type": "stream",
     "text": [
      " 13%|█▎        | 2319/17240 [39:29<4:24:06,  1.06s/it]"
     ]
    },
    {
     "name": "stdout",
     "output_type": "stream",
     "text": [
      "(1.25, 'خوای', 'خۊی')\n",
      "(1.0, 'خوای', 'خوی')\n"
     ]
    },
    {
     "name": "stderr",
     "output_type": "stream",
     "text": [
      "\r",
      " 13%|█▎        | 2320/17240 [39:29<3:45:11,  1.10it/s]"
     ]
    },
    {
     "name": "stdout",
     "output_type": "stream",
     "text": [
      "(1.0, 'خوای', 'خوایه')\n"
     ]
    },
    {
     "name": "stderr",
     "output_type": "stream",
     "text": [
      " 14%|█▎        | 2355/17240 [40:03<3:24:40,  1.21it/s]"
     ]
    },
    {
     "name": "stdout",
     "output_type": "stream",
     "text": [
      "(1.25, 'ئەمین', 'امین')\n"
     ]
    },
    {
     "name": "stderr",
     "output_type": "stream",
     "text": [
      " 14%|█▎        | 2364/17240 [40:12<4:29:25,  1.09s/it]"
     ]
    },
    {
     "name": "stdout",
     "output_type": "stream",
     "text": [
      "(1.25, 'تری', 'طوری')\n",
      "(1.0, 'تری', 'ترشی')\n",
      "(1.25, 'تری', 'طبری')\n",
      "(1.0, 'تری', 'ترین')\n"
     ]
    },
    {
     "name": "stderr",
     "output_type": "stream",
     "text": [
      "\r",
      " 14%|█▎        | 2365/17240 [40:13<4:01:57,  1.02it/s]"
     ]
    },
    {
     "name": "stdout",
     "output_type": "stream",
     "text": [
      "(1.0, 'تری', 'ترکی')\n"
     ]
    },
    {
     "name": "stderr",
     "output_type": "stream",
     "text": [
      " 14%|█▎        | 2368/17240 [40:16<4:12:51,  1.02s/it]"
     ]
    },
    {
     "name": "stdout",
     "output_type": "stream",
     "text": [
      "(1.0, 'تۆماس', 'تماس')\n"
     ]
    },
    {
     "name": "stderr",
     "output_type": "stream",
     "text": [
      " 14%|█▍        | 2372/17240 [40:19<3:58:11,  1.04it/s]"
     ]
    },
    {
     "name": "stdout",
     "output_type": "stream",
     "text": [
      "(1.0, 'سامان', 'سازمان')\n",
      "(1.0, 'سامان', 'امان')\n",
      "(0.0, 'سامان', 'سامان')\n",
      "(1.0, 'سامان', 'ساماني')\n",
      "(1.0, 'سامان', 'سامانی')\n",
      "(1.5, 'سامان', 'أمأن')\n"
     ]
    },
    {
     "name": "stderr",
     "output_type": "stream",
     "text": [
      " 14%|█▍        | 2374/17240 [40:21<4:05:58,  1.01it/s]"
     ]
    },
    {
     "name": "stdout",
     "output_type": "stream",
     "text": [
      "(1.0, 'قەزوین', 'قزوین')\n"
     ]
    },
    {
     "name": "stderr",
     "output_type": "stream",
     "text": [
      " 14%|█▍        | 2382/17240 [40:29<3:44:15,  1.10it/s]"
     ]
    },
    {
     "name": "stdout",
     "output_type": "stream",
     "text": [
      "(1.25, 'مانگ', 'مئن')\n"
     ]
    },
    {
     "name": "stderr",
     "output_type": "stream",
     "text": [
      "\r",
      " 14%|█▍        | 2383/17240 [40:29<3:21:52,  1.23it/s]"
     ]
    },
    {
     "name": "stdout",
     "output_type": "stream",
     "text": [
      "(1.0, 'الخل', 'الل')\n"
     ]
    },
    {
     "name": "stderr",
     "output_type": "stream",
     "text": [
      " 14%|█▍        | 2408/17240 [40:54<4:16:32,  1.04s/it]"
     ]
    },
    {
     "name": "stdout",
     "output_type": "stream",
     "text": [
      "(1.25, 'ئایه', 'أیه')\n",
      "(1.5, 'ئایه', 'أيه')\n"
     ]
    },
    {
     "name": "stderr",
     "output_type": "stream",
     "text": [
      "\r",
      " 14%|█▍        | 2409/17240 [40:55<3:43:58,  1.10it/s]"
     ]
    },
    {
     "name": "stdout",
     "output_type": "stream",
     "text": [
      "(1.0, 'ئایه', 'ایه')\n"
     ]
    },
    {
     "name": "stderr",
     "output_type": "stream",
     "text": [
      " 14%|█▍        | 2414/17240 [41:00<4:53:16,  1.19s/it]"
     ]
    },
    {
     "name": "stdout",
     "output_type": "stream",
     "text": [
      "(1.0, 'فای', 'فانی')\n",
      "(1.0, 'فای', 'فایل')\n"
     ]
    },
    {
     "name": "stderr",
     "output_type": "stream",
     "text": [
      "\r",
      " 14%|█▍        | 2415/17240 [41:01<3:59:17,  1.03it/s]"
     ]
    },
    {
     "name": "stdout",
     "output_type": "stream",
     "text": [
      "(1.0, 'فای', 'فضای')\n"
     ]
    },
    {
     "name": "stderr",
     "output_type": "stream",
     "text": [
      " 14%|█▍        | 2418/17240 [41:04<4:23:47,  1.07s/it]"
     ]
    },
    {
     "name": "stdout",
     "output_type": "stream",
     "text": [
      "(1.25, 'عوسمانی', 'عثمانی')\n"
     ]
    },
    {
     "name": "stderr",
     "output_type": "stream",
     "text": [
      "\r",
      " 14%|█▍        | 2419/17240 [41:05<4:15:39,  1.04s/it]"
     ]
    },
    {
     "name": "stdout",
     "output_type": "stream",
     "text": [
      "(0.0, 'کاسی', 'کاسی')\n",
      "(1.0, 'کاسی', 'کاسپی')\n",
      "(1.0, 'کاسی', 'کاس')\n"
     ]
    },
    {
     "name": "stderr",
     "output_type": "stream",
     "text": [
      " 14%|█▍        | 2421/17240 [41:06<3:18:38,  1.24it/s]"
     ]
    },
    {
     "name": "stdout",
     "output_type": "stream",
     "text": [
      "(1.0, 'بیجن', 'بین')\n"
     ]
    },
    {
     "name": "stderr",
     "output_type": "stream",
     "text": [
      " 14%|█▍        | 2451/17240 [41:41<4:51:07,  1.18s/it]"
     ]
    },
    {
     "name": "stdout",
     "output_type": "stream",
     "text": [
      "(1.0, 'دکتۆرای', 'دکترای')\n"
     ]
    },
    {
     "name": "stderr",
     "output_type": "stream",
     "text": [
      " 14%|█▍        | 2460/17240 [41:50<3:44:01,  1.10it/s]"
     ]
    },
    {
     "name": "stdout",
     "output_type": "stream",
     "text": [
      "(1.0, 'سەقز', 'سقز')\n",
      "(1.25, 'شارستانی', 'شأرستان')\n"
     ]
    },
    {
     "name": "stderr",
     "output_type": "stream",
     "text": [
      " 14%|█▍        | 2469/17240 [41:59<4:06:36,  1.00s/it]"
     ]
    },
    {
     "name": "stdout",
     "output_type": "stream",
     "text": [
      "(0.25, 'جاک', 'جيک')\n",
      "(1.25, 'جاک', 'مجيک')\n"
     ]
    },
    {
     "name": "stderr",
     "output_type": "stream",
     "text": [
      "\r",
      " 14%|█▍        | 2470/17240 [42:00<3:32:32,  1.16it/s]"
     ]
    },
    {
     "name": "stdout",
     "output_type": "stream",
     "text": [
      "(0.0, 'جبال', 'جبال')\n",
      "(1.0, 'جبال', 'بال')\n"
     ]
    },
    {
     "name": "stderr",
     "output_type": "stream",
     "text": [
      " 14%|█▍        | 2489/17240 [42:19<4:37:04,  1.13s/it]"
     ]
    },
    {
     "name": "stdout",
     "output_type": "stream",
     "text": [
      "(1.25, 'تارانە', 'تئران')\n"
     ]
    },
    {
     "name": "stderr",
     "output_type": "stream",
     "text": [
      " 14%|█▍        | 2499/17240 [42:31<5:14:45,  1.28s/it]"
     ]
    },
    {
     "name": "stdout",
     "output_type": "stream",
     "text": [
      "(1.25, 'کوشتاری', 'کۊشتای')\n"
     ]
    },
    {
     "name": "stderr",
     "output_type": "stream",
     "text": [
      " 15%|█▍        | 2522/17240 [42:55<4:44:24,  1.16s/it]"
     ]
    },
    {
     "name": "stdout",
     "output_type": "stream",
     "text": [
      "(1.0, 'عاجی', 'عاج')\n"
     ]
    },
    {
     "name": "stderr",
     "output_type": "stream",
     "text": [
      " 15%|█▍        | 2524/17240 [42:57<3:48:47,  1.07it/s]"
     ]
    },
    {
     "name": "stdout",
     "output_type": "stream",
     "text": [
      "(1.0, 'کتیب', 'کتی')\n"
     ]
    },
    {
     "name": "stderr",
     "output_type": "stream",
     "text": [
      "\r",
      " 15%|█▍        | 2525/17240 [42:57<3:23:05,  1.21it/s]"
     ]
    },
    {
     "name": "stdout",
     "output_type": "stream",
     "text": [
      "(1.0, 'کتیب', 'کتیبه')\n"
     ]
    },
    {
     "name": "stderr",
     "output_type": "stream",
     "text": [
      " 15%|█▍        | 2528/17240 [43:00<3:21:57,  1.21it/s]"
     ]
    },
    {
     "name": "stdout",
     "output_type": "stream",
     "text": [
      "(1.0, 'بپرسن', 'برسن')\n"
     ]
    },
    {
     "name": "stderr",
     "output_type": "stream",
     "text": [
      " 15%|█▍        | 2538/17240 [43:12<4:25:50,  1.08s/it]"
     ]
    },
    {
     "name": "stdout",
     "output_type": "stream",
     "text": [
      "(1.0, 'بیروونی', 'بیرونی')\n"
     ]
    },
    {
     "name": "stderr",
     "output_type": "stream",
     "text": [
      " 15%|█▍        | 2541/17240 [43:15<4:22:34,  1.07s/it]"
     ]
    },
    {
     "name": "stdout",
     "output_type": "stream",
     "text": [
      "(1.0, 'جافی', 'جای')\n"
     ]
    },
    {
     "name": "stderr",
     "output_type": "stream",
     "text": [
      " 15%|█▍        | 2564/17240 [43:44<5:13:16,  1.28s/it]"
     ]
    },
    {
     "name": "stdout",
     "output_type": "stream",
     "text": [
      "(1.0, 'گەرمتر', 'گرمتر')\n"
     ]
    },
    {
     "name": "stderr",
     "output_type": "stream",
     "text": [
      " 15%|█▍        | 2567/17240 [43:49<5:44:14,  1.41s/it]"
     ]
    },
    {
     "name": "stdout",
     "output_type": "stream",
     "text": [
      "(1.0, 'نەبرد', 'نبرد')\n"
     ]
    },
    {
     "name": "stderr",
     "output_type": "stream",
     "text": [
      " 15%|█▍        | 2575/17240 [44:00<6:11:25,  1.52s/it]"
     ]
    },
    {
     "name": "stdout",
     "output_type": "stream",
     "text": [
      "(0.0, 'شعر', 'شعر')\n",
      "(1.0, 'شعر', 'شاعر')\n"
     ]
    },
    {
     "name": "stderr",
     "output_type": "stream",
     "text": [
      " 15%|█▍        | 2583/17240 [44:08<4:00:54,  1.01it/s]"
     ]
    },
    {
     "name": "stdout",
     "output_type": "stream",
     "text": [
      "(1.25, 'باشوری', 'باشۊر')\n"
     ]
    },
    {
     "name": "stderr",
     "output_type": "stream",
     "text": [
      " 15%|█▌        | 2586/17240 [44:11<4:23:18,  1.08s/it]"
     ]
    },
    {
     "name": "stdout",
     "output_type": "stream",
     "text": [
      "(0.0, 'فساد', 'فساد')\n"
     ]
    },
    {
     "name": "stderr",
     "output_type": "stream",
     "text": [
      " 15%|█▌        | 2615/17240 [44:43<5:08:39,  1.27s/it]"
     ]
    },
    {
     "name": "stdout",
     "output_type": "stream",
     "text": [
      "(1.0, 'فراونی', 'فراوانی')\n"
     ]
    },
    {
     "name": "stderr",
     "output_type": "stream",
     "text": [
      " 15%|█▌        | 2638/17240 [45:04<3:40:41,  1.10it/s]"
     ]
    },
    {
     "name": "stdout",
     "output_type": "stream",
     "text": [
      "(1.0, 'بلشویکی', 'بولشویکی')\n"
     ]
    },
    {
     "name": "stderr",
     "output_type": "stream",
     "text": [
      " 15%|█▌        | 2642/17240 [45:07<3:20:34,  1.21it/s]"
     ]
    },
    {
     "name": "stdout",
     "output_type": "stream",
     "text": [
      "(1.0, 'دیدی', 'دیدنی')\n",
      "(1.0, 'دیدی', 'دید')\n",
      "(1.0, 'دیدی', 'دهیدی')\n"
     ]
    },
    {
     "name": "stderr",
     "output_type": "stream",
     "text": [
      "\r",
      " 15%|█▌        | 2643/17240 [45:08<3:05:52,  1.31it/s]"
     ]
    },
    {
     "name": "stdout",
     "output_type": "stream",
     "text": [
      "(1.0, 'دیدی', 'شدیدی')\n"
     ]
    },
    {
     "name": "stderr",
     "output_type": "stream",
     "text": [
      " 15%|█▌        | 2657/17240 [45:21<3:33:45,  1.14it/s]"
     ]
    },
    {
     "name": "stdout",
     "output_type": "stream",
     "text": [
      "(1.0, 'فەلاح', 'فلاح')\n"
     ]
    },
    {
     "name": "stderr",
     "output_type": "stream",
     "text": [
      " 15%|█▌        | 2660/17240 [45:24<3:29:08,  1.16it/s]"
     ]
    },
    {
     "name": "stdout",
     "output_type": "stream",
     "text": [
      "(1.25, 'جامو', 'جأم')\n",
      "(1.0, 'جامو', 'جام')\n",
      "(1.25, 'جامو', 'جئم')\n",
      "(1.0, 'جامو', 'امو')\n"
     ]
    },
    {
     "name": "stderr",
     "output_type": "stream",
     "text": [
      " 15%|█▌        | 2672/17240 [45:36<4:28:38,  1.11s/it]"
     ]
    },
    {
     "name": "stdout",
     "output_type": "stream",
     "text": [
      "(1.25, 'کوێر', 'کؤر')\n"
     ]
    },
    {
     "name": "stderr",
     "output_type": "stream",
     "text": [
      " 16%|█▌        | 2685/17240 [45:49<4:47:31,  1.19s/it]"
     ]
    },
    {
     "name": "stdout",
     "output_type": "stream",
     "text": [
      "(1.0, 'سونگی', 'سنگی')\n"
     ]
    },
    {
     "name": "stderr",
     "output_type": "stream",
     "text": [
      " 16%|█▌        | 2696/17240 [46:03<4:44:22,  1.17s/it]"
     ]
    },
    {
     "name": "stdout",
     "output_type": "stream",
     "text": [
      "(1.5, 'الا', 'خئلي')\n",
      "(1.5, 'الا', 'أولي')\n",
      "(1.25, 'الا', 'اولي')\n",
      "(1.5, 'الا', 'أليف')\n",
      "(1.5, 'الا', 'خيلي')\n",
      "(1.0, 'الا', 'بالا')\n",
      "(1.5, 'الا', 'ليلي')\n"
     ]
    },
    {
     "name": "stderr",
     "output_type": "stream",
     "text": [
      "\r",
      " 16%|█▌        | 2697/17240 [46:04<3:50:50,  1.05it/s]"
     ]
    },
    {
     "name": "stdout",
     "output_type": "stream",
     "text": [
      "(1.5, 'الا', 'خألي')\n",
      "(1.25, 'الا', 'پيلا')\n",
      "(1.25, 'الا', 'مالي')\n",
      "(1.5, 'الا', 'أصلي')\n",
      "(1.0, 'الا', 'خالا')\n",
      "(1.0, 'الا', 'الان')\n",
      "(1.0, 'الا', 'مالا')\n",
      "(1.25, 'الا', 'خالي')\n",
      "(1.25, 'الا', 'والي')\n"
     ]
    },
    {
     "name": "stderr",
     "output_type": "stream",
     "text": [
      " 16%|█▌        | 2703/17240 [46:10<3:36:14,  1.12it/s]"
     ]
    },
    {
     "name": "stdout",
     "output_type": "stream",
     "text": [
      "(1.25, 'خواردن', 'خؤردن')\n"
     ]
    },
    {
     "name": "stderr",
     "output_type": "stream",
     "text": [
      " 16%|█▌        | 2757/17240 [47:05<4:42:49,  1.17s/it]"
     ]
    },
    {
     "name": "stdout",
     "output_type": "stream",
     "text": [
      "(1.0, 'دۆستی', 'دستی')\n"
     ]
    },
    {
     "name": "stderr",
     "output_type": "stream",
     "text": [
      " 16%|█▌        | 2761/17240 [47:09<4:49:53,  1.20s/it]"
     ]
    },
    {
     "name": "stdout",
     "output_type": "stream",
     "text": [
      "(1.0, 'گلا', 'گیلا')\n"
     ]
    },
    {
     "name": "stderr",
     "output_type": "stream",
     "text": [
      "\r",
      " 16%|█▌        | 2762/17240 [47:09<3:56:30,  1.02it/s]"
     ]
    },
    {
     "name": "stdout",
     "output_type": "stream",
     "text": [
      "(1.0, 'گلا', 'گلای')\n",
      "(1.25, 'گلا', 'گلکي')\n"
     ]
    },
    {
     "name": "stderr",
     "output_type": "stream",
     "text": [
      " 16%|█▌        | 2765/17240 [47:12<3:45:29,  1.07it/s]"
     ]
    },
    {
     "name": "stdout",
     "output_type": "stream",
     "text": [
      "(1.0, 'بۆیان', 'بیان')\n"
     ]
    },
    {
     "name": "stderr",
     "output_type": "stream",
     "text": [
      "\r",
      " 16%|█▌        | 2766/17240 [47:13<3:28:03,  1.16it/s]"
     ]
    },
    {
     "name": "stdout",
     "output_type": "stream",
     "text": [
      "(1.0, 'شاعیر', 'شاعر')\n"
     ]
    },
    {
     "name": "stderr",
     "output_type": "stream",
     "text": [
      " 16%|█▌        | 2770/17240 [47:17<4:15:29,  1.06s/it]"
     ]
    },
    {
     "name": "stdout",
     "output_type": "stream",
     "text": [
      "(1.25, 'توندە', 'تۊند')\n"
     ]
    },
    {
     "name": "stderr",
     "output_type": "stream",
     "text": [
      "\r",
      " 16%|█▌        | 2771/17240 [47:18<3:53:07,  1.03it/s]"
     ]
    },
    {
     "name": "stdout",
     "output_type": "stream",
     "text": [
      "(0.0, 'سامانیان', 'سامانیان')\n"
     ]
    },
    {
     "name": "stderr",
     "output_type": "stream",
     "text": [
      "\r",
      " 16%|█▌        | 2772/17240 [47:19<4:00:41,  1.00it/s]"
     ]
    },
    {
     "name": "stdout",
     "output_type": "stream",
     "text": [
      "(1.0, 'سامانیان', 'سامانان')\n",
      "(1.25, 'سامانیان', 'سامانئن')\n"
     ]
    },
    {
     "name": "stderr",
     "output_type": "stream",
     "text": [
      " 16%|█▌        | 2786/17240 [47:34<3:57:43,  1.01it/s]"
     ]
    },
    {
     "name": "stdout",
     "output_type": "stream",
     "text": [
      "(1.25, 'کوردت', 'کۊرد')\n"
     ]
    },
    {
     "name": "stderr",
     "output_type": "stream",
     "text": [
      " 16%|█▌        | 2796/17240 [47:44<3:23:13,  1.18it/s]"
     ]
    },
    {
     "name": "stdout",
     "output_type": "stream",
     "text": [
      "(1.0, 'خاو', 'خالو')\n",
      "(1.0, 'خاو', 'خاور')\n"
     ]
    },
    {
     "name": "stderr",
     "output_type": "stream",
     "text": [
      " 16%|█▋        | 2804/17240 [47:53<4:03:36,  1.01s/it]"
     ]
    },
    {
     "name": "stdout",
     "output_type": "stream",
     "text": [
      "(0.0, 'ایلام', 'ایلام')\n",
      "(1.0, 'ایلام', 'ایسلام')\n",
      "(1.0, 'ایلام', 'ایلامی')\n"
     ]
    },
    {
     "name": "stderr",
     "output_type": "stream",
     "text": [
      " 16%|█▋        | 2815/17240 [48:05<5:05:00,  1.27s/it]"
     ]
    },
    {
     "name": "stdout",
     "output_type": "stream",
     "text": [
      "(1.0, 'پەخش', 'پخش')\n"
     ]
    },
    {
     "name": "stderr",
     "output_type": "stream",
     "text": [
      " 17%|█▋        | 2845/17240 [48:37<3:45:46,  1.06it/s]"
     ]
    },
    {
     "name": "stdout",
     "output_type": "stream",
     "text": [
      "(1.5, 'خوار', 'خؤجير')\n",
      "(1.25, 'خوار', 'خۊر')\n",
      "(1.25, 'خوار', 'وير')\n",
      "(1.5, 'خوار', 'خۊجير')\n",
      "(1.5, 'خوار', 'خؤمئر')\n",
      "(1.0, 'خوار', 'خواهر')\n"
     ]
    },
    {
     "name": "stderr",
     "output_type": "stream",
     "text": [
      " 17%|█▋        | 2862/17240 [48:53<3:54:26,  1.02it/s]"
     ]
    },
    {
     "name": "stdout",
     "output_type": "stream",
     "text": [
      "(1.25, 'بانگه', 'بئنه')\n"
     ]
    },
    {
     "name": "stderr",
     "output_type": "stream",
     "text": [
      " 17%|█▋        | 2869/17240 [48:59<3:19:09,  1.20it/s]"
     ]
    },
    {
     "name": "stdout",
     "output_type": "stream",
     "text": [
      "(1.25, 'عوسمان', 'عؤمان')\n"
     ]
    },
    {
     "name": "stderr",
     "output_type": "stream",
     "text": [
      " 17%|█▋        | 2872/17240 [49:02<3:25:29,  1.17it/s]"
     ]
    },
    {
     "name": "stdout",
     "output_type": "stream",
     "text": [
      "(1.0, 'وکاری', 'کاری')\n"
     ]
    },
    {
     "name": "stderr",
     "output_type": "stream",
     "text": [
      "\r",
      " 17%|█▋        | 2873/17240 [49:03<3:11:55,  1.25it/s]"
     ]
    },
    {
     "name": "stdout",
     "output_type": "stream",
     "text": [
      "(1.5, 'بوا', 'بۊمأ')\n",
      "(1.5, 'بوا', 'بۊنأ')\n",
      "(1.0, 'بوا', 'بونا')\n",
      "(1.5, 'بوا', 'بۊمي')\n",
      "(1.25, 'بوا', 'بونأ')\n"
     ]
    },
    {
     "name": "stderr",
     "output_type": "stream",
     "text": [
      "\r",
      " 17%|█▋        | 2874/17240 [49:03<2:46:01,  1.44it/s]"
     ]
    },
    {
     "name": "stdout",
     "output_type": "stream",
     "text": [
      "(1.5, 'بوا', 'بۊيي')\n",
      "(1.0, 'بوا', 'بولا')\n",
      "(1.25, 'بوا', 'بويه')\n",
      "(1.5, 'بوا', 'بۊيه')\n"
     ]
    },
    {
     "name": "stderr",
     "output_type": "stream",
     "text": [
      " 17%|█▋        | 2884/17240 [49:14<3:59:05,  1.00it/s]"
     ]
    },
    {
     "name": "stdout",
     "output_type": "stream",
     "text": [
      "(1.0, 'باری', 'باروی')\n",
      "(1.0, 'باری', 'بار')\n",
      "(1.0, 'باری', 'باقری')\n"
     ]
    },
    {
     "name": "stderr",
     "output_type": "stream",
     "text": [
      "\r",
      " 17%|█▋        | 2885/17240 [49:15<3:26:39,  1.16it/s]"
     ]
    },
    {
     "name": "stdout",
     "output_type": "stream",
     "text": [
      "(1.0, 'باری', 'باکری')\n"
     ]
    },
    {
     "name": "stderr",
     "output_type": "stream",
     "text": [
      " 17%|█▋        | 2908/17240 [49:37<3:34:49,  1.11it/s]"
     ]
    },
    {
     "name": "stdout",
     "output_type": "stream",
     "text": [
      "(0.0, 'ایران', 'ایران')\n",
      "(1.0, 'ایران', 'ایرانا')\n",
      "(1.0, 'ایران', 'ایرانی')\n",
      "(1.25, 'ایران', 'ئران')\n",
      "(1.0, 'ایران', 'ایرانن')\n",
      "(1.0, 'ایران', 'اران')\n"
     ]
    },
    {
     "name": "stderr",
     "output_type": "stream",
     "text": [
      " 17%|█▋        | 2911/17240 [49:39<3:17:26,  1.21it/s]"
     ]
    },
    {
     "name": "stdout",
     "output_type": "stream",
     "text": [
      "(1.25, 'ئامار', 'امير')\n",
      "(1.5, 'ئامار', 'أمير')\n"
     ]
    },
    {
     "name": "stderr",
     "output_type": "stream",
     "text": [
      "\r",
      " 17%|█▋        | 2912/17240 [49:40<3:05:34,  1.29it/s]"
     ]
    },
    {
     "name": "stdout",
     "output_type": "stream",
     "text": [
      "(1.5, 'ئامار', 'ايمارت')\n"
     ]
    },
    {
     "name": "stderr",
     "output_type": "stream",
     "text": [
      " 17%|█▋        | 2917/17240 [49:44<3:20:44,  1.19it/s]"
     ]
    },
    {
     "name": "stdout",
     "output_type": "stream",
     "text": [
      "(1.0, 'پاکستانی', 'پاکستان')\n"
     ]
    },
    {
     "name": "stderr",
     "output_type": "stream",
     "text": [
      " 17%|█▋        | 2922/17240 [49:49<3:19:19,  1.20it/s]"
     ]
    },
    {
     "name": "stdout",
     "output_type": "stream",
     "text": [
      "(1.0, 'دای', 'دمای')\n",
      "(1.0, 'دای', 'داعی')\n",
      "(1.25, 'دای', 'دئنی')\n"
     ]
    },
    {
     "name": "stderr",
     "output_type": "stream",
     "text": [
      " 17%|█▋        | 2926/17240 [49:53<4:25:28,  1.11s/it]"
     ]
    },
    {
     "name": "stdout",
     "output_type": "stream",
     "text": [
      "(1.0, 'پەیام', 'پیام')\n"
     ]
    },
    {
     "name": "stderr",
     "output_type": "stream",
     "text": [
      " 17%|█▋        | 2949/17240 [50:16<4:36:13,  1.16s/it]"
     ]
    },
    {
     "name": "stdout",
     "output_type": "stream",
     "text": [
      "(1.25, 'باوه', 'بيه')\n",
      "(0.25, 'باوه', 'بيوه')\n"
     ]
    },
    {
     "name": "stderr",
     "output_type": "stream",
     "text": [
      "\r",
      " 17%|█▋        | 2950/17240 [50:17<3:52:01,  1.03it/s]"
     ]
    },
    {
     "name": "stdout",
     "output_type": "stream",
     "text": [
      "(1.0, 'باوه', 'باو')\n"
     ]
    },
    {
     "name": "stderr",
     "output_type": "stream",
     "text": [
      " 17%|█▋        | 2965/17240 [50:34<4:15:08,  1.07s/it]"
     ]
    },
    {
     "name": "stdout",
     "output_type": "stream",
     "text": [
      "(1.0, 'سویس', 'سیس')\n",
      "(1.0, 'سویس', 'سوی')\n"
     ]
    },
    {
     "name": "stderr",
     "output_type": "stream",
     "text": [
      " 17%|█▋        | 2976/17240 [50:44<4:02:02,  1.02s/it]"
     ]
    },
    {
     "name": "stdout",
     "output_type": "stream",
     "text": [
      "(1.0, 'بای', 'بایه')\n",
      "(1.0, 'بای', 'باشی')\n",
      "(1.0, 'بای', 'بازی')\n",
      "(1.25, 'بای', 'برئی')\n",
      "(1.0, 'بای', 'باخی')\n"
     ]
    },
    {
     "name": "stderr",
     "output_type": "stream",
     "text": [
      "\r",
      " 17%|█▋        | 2977/17240 [50:44<3:20:32,  1.19it/s]"
     ]
    },
    {
     "name": "stdout",
     "output_type": "stream",
     "text": [
      "(1.25, 'بای', 'بأضی')\n",
      "(1.0, 'بای', 'بقای')\n",
      "(1.0, 'بای', 'بانی')\n",
      "(1.0, 'بای', 'باغی')\n",
      "(1.0, 'بای', 'بایی')\n",
      "(1.0, 'بای', 'باید')\n",
      "(1.0, 'بای', 'برای')\n",
      "(1.0, 'بای', 'بنای')\n"
     ]
    },
    {
     "name": "stderr",
     "output_type": "stream",
     "text": [
      " 17%|█▋        | 2994/17240 [51:03<3:38:05,  1.09it/s]"
     ]
    },
    {
     "name": "stdout",
     "output_type": "stream",
     "text": [
      "(1.0, 'بانە', 'بان')\n",
      "(1.25, 'بانە', 'بين')\n"
     ]
    },
    {
     "name": "stderr",
     "output_type": "stream",
     "text": [
      " 17%|█▋        | 2997/17240 [51:05<3:05:46,  1.28it/s]"
     ]
    },
    {
     "name": "stdout",
     "output_type": "stream",
     "text": [
      "(1.0, 'باشتر', 'اشتر')\n"
     ]
    },
    {
     "name": "stderr",
     "output_type": "stream",
     "text": [
      " 17%|█▋        | 3012/17240 [51:22<3:58:25,  1.01s/it]"
     ]
    },
    {
     "name": "stdout",
     "output_type": "stream",
     "text": [
      "(1.25, 'دام', 'دأرم')\n",
      "(0.0, 'دام', 'دام')\n",
      "(1.0, 'دام', 'دانم')\n",
      "(1.25, 'دام', 'قديم')\n"
     ]
    },
    {
     "name": "stderr",
     "output_type": "stream",
     "text": [
      "\r",
      " 17%|█▋        | 3013/17240 [51:22<3:17:53,  1.20it/s]"
     ]
    },
    {
     "name": "stdout",
     "output_type": "stream",
     "text": [
      "(1.25, 'دام', 'ديسم')\n",
      "(1.0, 'دام', 'دوام')\n",
      "(1.25, 'دام', 'دأنم')\n",
      "(1.25, 'دام', 'ديلم')\n",
      "(1.25, 'دام', 'ديمه')\n"
     ]
    },
    {
     "name": "stderr",
     "output_type": "stream",
     "text": [
      "\r",
      " 17%|█▋        | 3014/17240 [51:23<3:07:13,  1.27it/s]"
     ]
    },
    {
     "name": "stdout",
     "output_type": "stream",
     "text": [
      "(1.25, 'قومن', 'قؤمان')\n",
      "(1.25, 'قومن', 'قؤم')\n"
     ]
    },
    {
     "name": "stderr",
     "output_type": "stream",
     "text": [
      "\r",
      " 17%|█▋        | 3015/17240 [51:23<2:51:05,  1.39it/s]"
     ]
    },
    {
     "name": "stdout",
     "output_type": "stream",
     "text": [
      "(1.0, 'قومن', 'قومان')\n",
      "(1.0, 'قومن', 'قوم')\n"
     ]
    },
    {
     "name": "stderr",
     "output_type": "stream",
     "text": [
      "\r",
      " 17%|█▋        | 3016/17240 [51:24<2:47:03,  1.42it/s]"
     ]
    },
    {
     "name": "stdout",
     "output_type": "stream",
     "text": [
      "(1.25, 'وره', 'پۊره')\n",
      "(1.25, 'وره', 'خؤره')\n",
      "(1.25, 'وره', 'اؤره')\n",
      "(1.0, 'وره', 'دوره')\n",
      "(1.25, 'وره', 'بؤره')\n",
      "(1.0, 'وره', 'اوره')\n",
      "(1.0, 'وره', 'پوره')\n",
      "(1.0, 'وره', 'ورجه')\n",
      "(1.0, 'وره', 'خوره')\n"
     ]
    },
    {
     "name": "stderr",
     "output_type": "stream",
     "text": [
      "\r",
      " 18%|█▊        | 3017/17240 [51:24<2:29:13,  1.59it/s]"
     ]
    },
    {
     "name": "stdout",
     "output_type": "stream",
     "text": [
      "(1.25, 'وره', 'دؤره')\n",
      "(1.0, 'وره', 'غوره')\n",
      "(1.25, 'وره', 'جۊره')\n",
      "(1.0, 'وره', 'سوره')\n",
      "(1.25, 'وره', 'شۊره')\n"
     ]
    },
    {
     "name": "stderr",
     "output_type": "stream",
     "text": [
      " 18%|█▊        | 3042/17240 [51:52<4:30:22,  1.14s/it]"
     ]
    },
    {
     "name": "stdout",
     "output_type": "stream",
     "text": [
      "(1.25, 'زالە', 'ذال')\n"
     ]
    },
    {
     "name": "stderr",
     "output_type": "stream",
     "text": [
      " 18%|█▊        | 3050/17240 [51:59<3:31:08,  1.12it/s]"
     ]
    },
    {
     "name": "stdout",
     "output_type": "stream",
     "text": [
      "(1.0, 'واتا', 'اتا')\n"
     ]
    },
    {
     "name": "stderr",
     "output_type": "stream",
     "text": [
      " 18%|█▊        | 3098/17240 [52:51<3:57:55,  1.01s/it]"
     ]
    },
    {
     "name": "stdout",
     "output_type": "stream",
     "text": [
      "(1.0, 'تاپتی', 'تاتی')\n"
     ]
    },
    {
     "name": "stderr",
     "output_type": "stream",
     "text": [
      " 18%|█▊        | 3111/17240 [53:04<4:18:36,  1.10s/it]"
     ]
    },
    {
     "name": "stdout",
     "output_type": "stream",
     "text": [
      "(0.0, 'ساسانی', 'ساسانی')\n"
     ]
    },
    {
     "name": "stderr",
     "output_type": "stream",
     "text": [
      " 18%|█▊        | 3132/17240 [53:28<5:18:21,  1.35s/it]"
     ]
    },
    {
     "name": "stdout",
     "output_type": "stream",
     "text": [
      "(1.0, 'سپیه', 'سپه')\n"
     ]
    },
    {
     "name": "stderr",
     "output_type": "stream",
     "text": [
      " 18%|█▊        | 3146/17240 [53:43<4:33:07,  1.16s/it]"
     ]
    },
    {
     "name": "stdout",
     "output_type": "stream",
     "text": [
      "(1.0, 'سماع', 'سما')\n"
     ]
    },
    {
     "name": "stderr",
     "output_type": "stream",
     "text": [
      " 18%|█▊        | 3164/17240 [54:03<3:49:46,  1.02it/s]"
     ]
    },
    {
     "name": "stdout",
     "output_type": "stream",
     "text": [
      "(1.0, 'ساری', 'ساغری')\n",
      "(1.25, 'ساری', 'سأی')\n",
      "(0.0, 'ساری', 'ساری')\n",
      "(1.25, 'ساری', 'صارای')\n",
      "(1.25, 'ساری', 'صفاری')\n"
     ]
    },
    {
     "name": "stderr",
     "output_type": "stream",
     "text": [
      "\r",
      " 18%|█▊        | 3165/17240 [54:03<3:22:17,  1.16it/s]"
     ]
    },
    {
     "name": "stdout",
     "output_type": "stream",
     "text": [
      "(1.25, 'ساری', 'آثاری')\n"
     ]
    },
    {
     "name": "stderr",
     "output_type": "stream",
     "text": [
      " 18%|█▊        | 3174/17240 [54:11<3:10:34,  1.23it/s]"
     ]
    },
    {
     "name": "stdout",
     "output_type": "stream",
     "text": [
      "(0.25, 'تاق', 'طاق')\n",
      "(1.25, 'تاق', 'طاقا')\n",
      "(1.0, 'تاق', 'تفاق')\n"
     ]
    },
    {
     "name": "stderr",
     "output_type": "stream",
     "text": [
      "\r",
      " 18%|█▊        | 3175/17240 [54:12<2:43:51,  1.43it/s]"
     ]
    },
    {
     "name": "stdout",
     "output_type": "stream",
     "text": [
      "(1.0, 'تاق', 'اتاق')\n"
     ]
    },
    {
     "name": "stderr",
     "output_type": "stream",
     "text": [
      " 18%|█▊        | 3177/17240 [54:13<2:57:17,  1.32it/s]"
     ]
    },
    {
     "name": "stdout",
     "output_type": "stream",
     "text": [
      "(1.25, 'دادی', 'ديدنی')\n"
     ]
    },
    {
     "name": "stderr",
     "output_type": "stream",
     "text": [
      " 18%|█▊        | 3182/17240 [54:19<3:59:22,  1.02s/it]"
     ]
    },
    {
     "name": "stdout",
     "output_type": "stream",
     "text": [
      "(1.0, 'گیانیان', 'گیلانیان')\n"
     ]
    },
    {
     "name": "stderr",
     "output_type": "stream",
     "text": [
      " 19%|█▊        | 3194/17240 [54:31<3:59:40,  1.02s/it]"
     ]
    },
    {
     "name": "stdout",
     "output_type": "stream",
     "text": [
      "(1.0, 'مۆرگ', 'مرگ')\n"
     ]
    },
    {
     "name": "stderr",
     "output_type": "stream",
     "text": [
      " 19%|█▊        | 3199/17240 [54:36<3:59:39,  1.02s/it]"
     ]
    },
    {
     "name": "stdout",
     "output_type": "stream",
     "text": [
      "(1.25, 'دورست', 'دؤرس')\n"
     ]
    },
    {
     "name": "stderr",
     "output_type": "stream",
     "text": [
      "\r",
      " 19%|█▊        | 3200/17240 [54:36<3:34:22,  1.09it/s]"
     ]
    },
    {
     "name": "stdout",
     "output_type": "stream",
     "text": [
      "(1.0, 'دورست', 'دوست')\n"
     ]
    },
    {
     "name": "stderr",
     "output_type": "stream",
     "text": [
      " 19%|█▊        | 3204/17240 [54:41<3:47:59,  1.03it/s]"
     ]
    },
    {
     "name": "stdout",
     "output_type": "stream",
     "text": [
      "(1.0, 'کوشت', 'کوشته')\n",
      "(1.25, 'کوشت', 'کۊشتن')\n",
      "(1.0, 'کوشت', 'وشت')\n",
      "(1.0, 'کوشت', 'کشت')\n"
     ]
    },
    {
     "name": "stderr",
     "output_type": "stream",
     "text": [
      "\r",
      " 19%|█▊        | 3205/17240 [54:41<3:18:18,  1.18it/s]"
     ]
    },
    {
     "name": "stdout",
     "output_type": "stream",
     "text": [
      "(1.25, 'کوشت', 'بکۊشت')\n"
     ]
    },
    {
     "name": "stderr",
     "output_type": "stream",
     "text": [
      " 19%|█▊        | 3219/17240 [54:56<4:02:20,  1.04s/it]"
     ]
    },
    {
     "name": "stdout",
     "output_type": "stream",
     "text": [
      "(1.0, 'چەرخی', 'چرخی')\n"
     ]
    },
    {
     "name": "stderr",
     "output_type": "stream",
     "text": [
      " 19%|█▉        | 3247/17240 [55:26<3:30:47,  1.11it/s]"
     ]
    },
    {
     "name": "stdout",
     "output_type": "stream",
     "text": [
      "(1.0, 'گازە', 'گاز')\n"
     ]
    },
    {
     "name": "stderr",
     "output_type": "stream",
     "text": [
      " 19%|█▉        | 3276/17240 [55:56<4:56:29,  1.27s/it]"
     ]
    },
    {
     "name": "stdout",
     "output_type": "stream",
     "text": [
      "(1.0, 'باش', 'باشی')\n"
     ]
    },
    {
     "name": "stderr",
     "output_type": "stream",
     "text": [
      " 19%|█▉        | 3284/17240 [56:02<3:10:24,  1.22it/s]"
     ]
    },
    {
     "name": "stdout",
     "output_type": "stream",
     "text": [
      "(1.0, 'پلان', 'پیلان')\n",
      "(1.25, 'پلان', 'لين')\n",
      "(1.0, 'پلان', 'پلا')\n",
      "(1.25, 'پلان', 'پلأ')\n"
     ]
    },
    {
     "name": "stderr",
     "output_type": "stream",
     "text": [
      " 19%|█▉        | 3302/17240 [56:22<3:58:37,  1.03s/it]"
     ]
    },
    {
     "name": "stdout",
     "output_type": "stream",
     "text": [
      "(1.25, 'شار', 'شأره')\n",
      "(1.25, 'شار', 'شيرج')\n",
      "(1.0, 'شار', 'شیار')\n",
      "(0.25, 'شار', 'شئر')\n",
      "(1.0, 'شار', 'شاعر')\n",
      "(0.25, 'شار', 'شأر')\n",
      "(1.0, 'شار', 'شکار')\n",
      "(1.25, 'شار', 'شرير')\n",
      "(1.0, 'شار', 'فشار')\n"
     ]
    },
    {
     "name": "stderr",
     "output_type": "stream",
     "text": [
      " 19%|█▉        | 3306/17240 [56:27<4:45:24,  1.23s/it]"
     ]
    },
    {
     "name": "stdout",
     "output_type": "stream",
     "text": [
      "(0.0, 'علم', 'علم')\n",
      "(1.0, 'علم', 'علمی')\n",
      "(1.0, 'علم', 'علمي')\n"
     ]
    },
    {
     "name": "stderr",
     "output_type": "stream",
     "text": [
      "\r",
      " 19%|█▉        | 3307/17240 [56:27<3:50:57,  1.01it/s]"
     ]
    },
    {
     "name": "stdout",
     "output_type": "stream",
     "text": [
      "(1.0, 'علم', 'علوم')\n",
      "(1.0, 'علم', 'عيلم')\n"
     ]
    },
    {
     "name": "stderr",
     "output_type": "stream",
     "text": [
      " 19%|█▉        | 3311/17240 [56:30<3:16:52,  1.18it/s]"
     ]
    },
    {
     "name": "stdout",
     "output_type": "stream",
     "text": [
      "(1.0, 'مالێ', 'مال')\n"
     ]
    },
    {
     "name": "stderr",
     "output_type": "stream",
     "text": [
      " 19%|█▉        | 3330/17240 [56:56<6:13:24,  1.61s/it]"
     ]
    },
    {
     "name": "stdout",
     "output_type": "stream",
     "text": [
      "(1.25, 'شاد', 'شتيد')\n",
      "(1.25, 'شاد', 'شديد')\n"
     ]
    },
    {
     "name": "stderr",
     "output_type": "stream",
     "text": [
      "\r",
      " 19%|█▉        | 3331/17240 [56:56<5:13:12,  1.35s/it]"
     ]
    },
    {
     "name": "stdout",
     "output_type": "stream",
     "text": [
      "(1.25, 'شاد', 'شهيد')\n"
     ]
    },
    {
     "name": "stderr",
     "output_type": "stream",
     "text": [
      " 19%|█▉        | 3355/17240 [57:24<4:05:40,  1.06s/it]"
     ]
    },
    {
     "name": "stdout",
     "output_type": "stream",
     "text": [
      "(1.0, 'براق', 'برق')\n"
     ]
    },
    {
     "name": "stderr",
     "output_type": "stream",
     "text": [
      " 19%|█▉        | 3359/17240 [57:27<3:47:04,  1.02it/s]"
     ]
    },
    {
     "name": "stdout",
     "output_type": "stream",
     "text": [
      "(1.25, 'ئیسلامین', 'ایسلامی')\n"
     ]
    },
    {
     "name": "stderr",
     "output_type": "stream",
     "text": [
      " 20%|█▉        | 3362/17240 [57:30<3:58:02,  1.03s/it]"
     ]
    },
    {
     "name": "stdout",
     "output_type": "stream",
     "text": [
      "(1.0, 'سەند', 'سند')\n"
     ]
    },
    {
     "name": "stderr",
     "output_type": "stream",
     "text": [
      " 20%|█▉        | 3369/17240 [57:37<3:30:16,  1.10it/s]"
     ]
    },
    {
     "name": "stdout",
     "output_type": "stream",
     "text": [
      "(1.0, 'ڤاین', 'این')\n"
     ]
    },
    {
     "name": "stderr",
     "output_type": "stream",
     "text": [
      " 20%|█▉        | 3390/17240 [57:59<3:27:55,  1.11it/s]"
     ]
    },
    {
     "name": "stdout",
     "output_type": "stream",
     "text": [
      "(1.0, 'معامل', 'معامله')\n",
      "(1.0, 'معامل', 'عامل')\n"
     ]
    },
    {
     "name": "stderr",
     "output_type": "stream",
     "text": [
      " 20%|█▉        | 3399/17240 [58:09<4:02:22,  1.05s/it]"
     ]
    },
    {
     "name": "stdout",
     "output_type": "stream",
     "text": [
      "(1.0, 'ماد', 'مادی')\n",
      "(0.0, 'ماد', 'ماد')\n",
      "(1.0, 'ماد', 'مواد')\n",
      "(1.25, 'ماد', 'مجيد')\n",
      "(1.25, 'ماد', 'مويد')\n",
      "(1.0, 'ماد', 'مراد')\n"
     ]
    },
    {
     "name": "stderr",
     "output_type": "stream",
     "text": [
      "\r",
      " 20%|█▉        | 3400/17240 [58:09<3:31:40,  1.09it/s]"
     ]
    },
    {
     "name": "stdout",
     "output_type": "stream",
     "text": [
      "(1.0, 'ماد', 'ماده')\n",
      "(1.0, 'ماد', 'مادر')\n"
     ]
    },
    {
     "name": "stderr",
     "output_type": "stream",
     "text": [
      " 20%|█▉        | 3403/17240 [58:13<4:07:06,  1.07s/it]"
     ]
    },
    {
     "name": "stdout",
     "output_type": "stream",
     "text": [
      "(1.25, 'عوممان', 'عؤمان')\n"
     ]
    },
    {
     "name": "stderr",
     "output_type": "stream",
     "text": [
      " 20%|█▉        | 3411/17240 [58:21<3:46:52,  1.02it/s]"
     ]
    },
    {
     "name": "stdout",
     "output_type": "stream",
     "text": [
      "(1.0, 'بەهار', 'بهار')\n"
     ]
    },
    {
     "name": "stderr",
     "output_type": "stream",
     "text": [
      " 20%|█▉        | 3416/17240 [58:26<3:35:05,  1.07it/s]"
     ]
    },
    {
     "name": "stdout",
     "output_type": "stream",
     "text": [
      "(0.0, 'خونه', 'خونه')\n",
      "(1.25, 'خونه', 'دخؤنه')\n",
      "(1.0, 'خونه', 'خون')\n"
     ]
    },
    {
     "name": "stderr",
     "output_type": "stream",
     "text": [
      "\r",
      " 20%|█▉        | 3417/17240 [58:27<3:09:12,  1.22it/s]"
     ]
    },
    {
     "name": "stdout",
     "output_type": "stream",
     "text": [
      "(0.25, 'خونه', 'خؤنه')\n",
      "(1.0, 'خونه', 'ونه')\n"
     ]
    },
    {
     "name": "stderr",
     "output_type": "stream",
     "text": [
      " 20%|█▉        | 3421/17240 [58:31<3:45:50,  1.02it/s]"
     ]
    },
    {
     "name": "stdout",
     "output_type": "stream",
     "text": [
      "(1.25, 'راز', 'راضي')\n",
      "(1.25, 'راز', 'ريزه')\n",
      "(1.0, 'راز', 'براز')\n",
      "(1.0, 'راز', 'رازي')\n",
      "(1.25, 'راز', 'راضی')\n"
     ]
    },
    {
     "name": "stderr",
     "output_type": "stream",
     "text": [
      "\r",
      " 20%|█▉        | 3422/17240 [58:31<3:07:53,  1.23it/s]"
     ]
    },
    {
     "name": "stdout",
     "output_type": "stream",
     "text": [
      "(1.0, 'راز', 'آراز')\n"
     ]
    },
    {
     "name": "stderr",
     "output_type": "stream",
     "text": [
      " 20%|█▉        | 3435/17240 [58:44<2:55:07,  1.31it/s]"
     ]
    },
    {
     "name": "stdout",
     "output_type": "stream",
     "text": [
      "(1.0, 'ترن', 'ترین')\n",
      "(1.0, 'ترن', 'ترند')\n",
      "(1.0, 'سلیبس', 'سلبس')\n"
     ]
    },
    {
     "name": "stderr",
     "output_type": "stream",
     "text": [
      " 20%|█▉        | 3437/17240 [58:46<2:38:12,  1.45it/s]"
     ]
    },
    {
     "name": "stdout",
     "output_type": "stream",
     "text": [
      "(1.0, 'گۆشت', 'گشت')\n"
     ]
    },
    {
     "name": "stderr",
     "output_type": "stream",
     "text": [
      " 20%|██        | 3455/17240 [59:08<4:06:38,  1.07s/it]"
     ]
    },
    {
     "name": "stdout",
     "output_type": "stream",
     "text": [
      "(1.0, 'نزیک', 'نزدیک')\n"
     ]
    },
    {
     "name": "stderr",
     "output_type": "stream",
     "text": [
      " 20%|██        | 3461/17240 [59:16<5:20:00,  1.39s/it]"
     ]
    },
    {
     "name": "stdout",
     "output_type": "stream",
     "text": [
      "(1.0, 'اهواز', 'اهوازی')\n"
     ]
    },
    {
     "name": "stderr",
     "output_type": "stream",
     "text": [
      "\r",
      " 20%|██        | 3462/17240 [59:17<4:29:35,  1.17s/it]"
     ]
    },
    {
     "name": "stdout",
     "output_type": "stream",
     "text": [
      "(0.25, 'اهواز', 'أهواز')\n"
     ]
    },
    {
     "name": "stderr",
     "output_type": "stream",
     "text": [
      "\r",
      " 20%|██        | 3463/17240 [59:18<4:36:27,  1.20s/it]"
     ]
    },
    {
     "name": "stdout",
     "output_type": "stream",
     "text": [
      "(1.0, 'بسن', 'بئسن')\n",
      "(1.0, 'بسن', 'بستن')\n"
     ]
    },
    {
     "name": "stderr",
     "output_type": "stream",
     "text": [
      "\r",
      " 20%|██        | 3464/17240 [59:18<3:43:01,  1.03it/s]"
     ]
    },
    {
     "name": "stdout",
     "output_type": "stream",
     "text": [
      "(1.0, 'بسن', 'برسن')\n"
     ]
    },
    {
     "name": "stderr",
     "output_type": "stream",
     "text": [
      " 20%|██        | 3469/17240 [59:23<3:50:44,  1.01s/it]"
     ]
    },
    {
     "name": "stdout",
     "output_type": "stream",
     "text": [
      "(1.0, 'فارس', 'فارسی')\n",
      "(1.0, 'فارس', 'ارس')\n",
      "(0.0, 'فارس', 'فارس')\n",
      "(1.0, 'فارس', 'فارسه')\n",
      "(1.25, 'فارس', 'فأرسه')\n",
      "(0.25, 'فارس', 'فأرس')\n"
     ]
    },
    {
     "name": "stderr",
     "output_type": "stream",
     "text": [
      "\r",
      " 20%|██        | 3470/17240 [59:24<3:20:19,  1.15it/s]"
     ]
    },
    {
     "name": "stdout",
     "output_type": "stream",
     "text": [
      "(1.0, 'فارس', 'فارسي')\n"
     ]
    },
    {
     "name": "stderr",
     "output_type": "stream",
     "text": [
      " 20%|██        | 3476/17240 [59:30<3:59:27,  1.04s/it]"
     ]
    },
    {
     "name": "stdout",
     "output_type": "stream",
     "text": [
      "(1.25, 'تابا', 'ابي')\n",
      "(1.0, 'تابا', 'ابا')\n"
     ]
    },
    {
     "name": "stderr",
     "output_type": "stream",
     "text": [
      " 20%|██        | 3482/17240 [59:36<4:08:52,  1.09s/it]"
     ]
    },
    {
     "name": "stdout",
     "output_type": "stream",
     "text": [
      "(1.0, 'بانکی', 'بانی')\n"
     ]
    },
    {
     "name": "stderr",
     "output_type": "stream",
     "text": [
      " 20%|██        | 3490/17240 [59:43<3:03:04,  1.25it/s]"
     ]
    },
    {
     "name": "stdout",
     "output_type": "stream",
     "text": [
      "(1.0, 'لاری', 'لری')\n",
      "(1.0, 'لاری', 'لار')\n",
      "(1.25, 'لاری', 'لير')\n"
     ]
    },
    {
     "name": "stderr",
     "output_type": "stream",
     "text": [
      " 20%|██        | 3493/17240 [59:45<2:55:45,  1.30it/s]"
     ]
    },
    {
     "name": "stdout",
     "output_type": "stream",
     "text": [
      "(1.25, 'ئەفغانستان', 'افغانستان')\n"
     ]
    },
    {
     "name": "stderr",
     "output_type": "stream",
     "text": [
      "\r",
      " 20%|██        | 3494/17240 [59:46<3:29:53,  1.09it/s]"
     ]
    },
    {
     "name": "stdout",
     "output_type": "stream",
     "text": [
      "(1.25, 'ئەفغانستان', 'أفغانستان')\n"
     ]
    },
    {
     "name": "stderr",
     "output_type": "stream",
     "text": [
      " 20%|██        | 3525/17240 [1:00:19<4:25:46,  1.16s/it]"
     ]
    },
    {
     "name": "stdout",
     "output_type": "stream",
     "text": [
      "(1.0, 'خنه', 'خونه')\n",
      "(1.0, 'خنه', 'خأنه')\n",
      "(1.0, 'خنه', 'خانه')\n",
      "(1.0, 'خنه', 'خؤنه')\n"
     ]
    },
    {
     "name": "stderr",
     "output_type": "stream",
     "text": [
      " 20%|██        | 3529/17240 [1:00:22<3:44:37,  1.02it/s]"
     ]
    },
    {
     "name": "stdout",
     "output_type": "stream",
     "text": [
      "(1.0, 'زیاتر', 'زیار')\n",
      "(1.0, 'زیاتر', 'زیادتر')\n"
     ]
    },
    {
     "name": "stderr",
     "output_type": "stream",
     "text": [
      " 21%|██        | 3538/17240 [1:00:32<4:13:52,  1.11s/it]"
     ]
    },
    {
     "name": "stdout",
     "output_type": "stream",
     "text": [
      "(1.0, 'پزیشک', 'پزشک')\n"
     ]
    },
    {
     "name": "stderr",
     "output_type": "stream",
     "text": [
      "\r",
      " 21%|██        | 3539/17240 [1:00:33<3:44:36,  1.02it/s]"
     ]
    },
    {
     "name": "stdout",
     "output_type": "stream",
     "text": [
      "(1.0, 'مین', 'امین')\n",
      "(0.0, 'مین', 'مین')\n",
      "(1.0, 'مین', 'میؤن')\n",
      "(1.0, 'مین', 'نمین')\n",
      "(1.0, 'مین', 'همین')\n",
      "(1.0, 'مین', 'معین')\n",
      "(1.0, 'مین', 'مینی')\n",
      "(1.0, 'مین', 'میئن')\n",
      "(1.0, 'مین', 'میهن')\n",
      "(1.0, 'مین', 'مهین')\n",
      "(1.0, 'مین', 'میون')\n",
      "(1.0, 'مین', 'میان')\n",
      "(1.0, 'مین', 'زمین')\n"
     ]
    },
    {
     "name": "stderr",
     "output_type": "stream",
     "text": [
      " 21%|██        | 3544/17240 [1:00:37<2:50:02,  1.34it/s]"
     ]
    },
    {
     "name": "stdout",
     "output_type": "stream",
     "text": [
      "(1.0, 'تەور', 'تور')\n"
     ]
    },
    {
     "name": "stderr",
     "output_type": "stream",
     "text": [
      " 21%|██        | 3556/17240 [1:00:51<4:35:36,  1.21s/it]"
     ]
    },
    {
     "name": "stdout",
     "output_type": "stream",
     "text": [
      "(1.0, 'رده', 'روده')\n",
      "(1.0, 'رده', 'مرده')\n",
      "(1.0, 'رده', 'فرده')\n",
      "(1.0, 'رده', 'رنده')\n"
     ]
    },
    {
     "name": "stderr",
     "output_type": "stream",
     "text": [
      " 21%|██        | 3570/17240 [1:01:04<3:29:08,  1.09it/s]"
     ]
    },
    {
     "name": "stdout",
     "output_type": "stream",
     "text": [
      "(1.25, 'ئیمامی', 'ایمام')\n",
      "(1.25, 'ئیمامی', 'امامی')\n"
     ]
    },
    {
     "name": "stderr",
     "output_type": "stream",
     "text": [
      " 21%|██        | 3572/17240 [1:01:06<3:31:46,  1.08it/s]"
     ]
    },
    {
     "name": "stdout",
     "output_type": "stream",
     "text": [
      "(1.0, 'پشتی', 'پشت')\n",
      "(1.0, 'پشتی', 'شتی')\n"
     ]
    },
    {
     "name": "stderr",
     "output_type": "stream",
     "text": [
      " 21%|██        | 3587/17240 [1:01:21<4:05:47,  1.08s/it]"
     ]
    },
    {
     "name": "stdout",
     "output_type": "stream",
     "text": [
      "(1.0, 'کورتی', 'کوتی')\n"
     ]
    },
    {
     "name": "stderr",
     "output_type": "stream",
     "text": [
      " 21%|██        | 3620/17240 [1:01:56<4:09:22,  1.10s/it]"
     ]
    },
    {
     "name": "stdout",
     "output_type": "stream",
     "text": [
      "(1.0, 'تورکمانباشی', 'تورکمنباشی')\n"
     ]
    },
    {
     "name": "stderr",
     "output_type": "stream",
     "text": [
      "\r",
      " 21%|██        | 3621/17240 [1:01:57<3:31:18,  1.07it/s]"
     ]
    },
    {
     "name": "stdout",
     "output_type": "stream",
     "text": [
      "(1.0, 'چاپو', 'چاپ')\n"
     ]
    },
    {
     "name": "stderr",
     "output_type": "stream",
     "text": [
      " 21%|██        | 3648/17240 [1:02:22<3:17:22,  1.15it/s]"
     ]
    },
    {
     "name": "stdout",
     "output_type": "stream",
     "text": [
      "(1.0, 'عەباس', 'عباس')\n"
     ]
    },
    {
     "name": "stderr",
     "output_type": "stream",
     "text": [
      " 21%|██        | 3651/17240 [1:02:25<3:19:41,  1.13it/s]"
     ]
    },
    {
     "name": "stdout",
     "output_type": "stream",
     "text": [
      "(1.0, 'سینگ', 'سنگ')\n"
     ]
    },
    {
     "name": "stderr",
     "output_type": "stream",
     "text": [
      " 21%|██▏       | 3664/17240 [1:02:36<3:49:03,  1.01s/it]"
     ]
    },
    {
     "name": "stdout",
     "output_type": "stream",
     "text": [
      "(0.25, 'کوشتن', 'کۊشتن')\n",
      "(1.0, 'کوشتن', 'بکوشتن')\n"
     ]
    },
    {
     "name": "stderr",
     "output_type": "stream",
     "text": [
      "\r",
      " 21%|██▏       | 3665/17240 [1:02:37<3:25:29,  1.10it/s]"
     ]
    },
    {
     "name": "stdout",
     "output_type": "stream",
     "text": [
      "(1.25, 'کوشتن', 'بکۊشتن')\n"
     ]
    },
    {
     "name": "stderr",
     "output_type": "stream",
     "text": [
      " 21%|██▏       | 3676/17240 [1:02:47<3:37:23,  1.04it/s]"
     ]
    },
    {
     "name": "stdout",
     "output_type": "stream",
     "text": [
      "(1.25, 'پاش', 'پيشي')\n"
     ]
    },
    {
     "name": "stderr",
     "output_type": "stream",
     "text": [
      "\r",
      " 21%|██▏       | 3677/17240 [1:02:47<3:02:52,  1.24it/s]"
     ]
    },
    {
     "name": "stdout",
     "output_type": "stream",
     "text": [
      "(0.25, 'پاش', 'پيش')\n",
      "(1.25, 'پاش', 'پيشی')\n"
     ]
    },
    {
     "name": "stderr",
     "output_type": "stream",
     "text": [
      " 21%|██▏       | 3690/17240 [1:03:01<3:08:00,  1.20it/s]"
     ]
    },
    {
     "name": "stdout",
     "output_type": "stream",
     "text": [
      "(1.0, 'تریان', 'ترین')\n"
     ]
    },
    {
     "name": "stderr",
     "output_type": "stream",
     "text": [
      "\r",
      " 21%|██▏       | 3691/17240 [1:03:02<3:04:08,  1.23it/s]"
     ]
    },
    {
     "name": "stdout",
     "output_type": "stream",
     "text": [
      "(1.0, 'داون', 'اون')\n",
      "(1.25, 'داون', 'دأن')\n",
      "(1.25, 'داون', 'دئن')\n",
      "(1.25, 'داون', 'دابؤن')\n",
      "(1.25, 'داون', 'دين')\n",
      "(1.25, 'داون', 'دارؤن')\n",
      "(1.0, 'داون', 'دان')\n",
      "(1.25, 'داون', 'دؤن')\n",
      "(1.25, 'داون', 'اؤن')\n",
      "(1.25, 'داون', 'ئون')\n"
     ]
    },
    {
     "name": "stderr",
     "output_type": "stream",
     "text": [
      "\r",
      " 21%|██▏       | 3692/17240 [1:03:02<2:46:34,  1.36it/s]"
     ]
    },
    {
     "name": "stdout",
     "output_type": "stream",
     "text": [
      "(1.0, 'داون', 'دون')\n",
      "(1.25, 'داون', 'دامؤن')\n",
      "(1.25, 'داون', 'اۊن')\n",
      "(1.25, 'داون', 'دۊن')\n"
     ]
    },
    {
     "name": "stderr",
     "output_type": "stream",
     "text": [
      " 22%|██▏       | 3717/17240 [1:03:26<4:39:08,  1.24s/it]"
     ]
    },
    {
     "name": "stdout",
     "output_type": "stream",
     "text": [
      "(1.0, 'پاریس', 'پارس')\n"
     ]
    },
    {
     "name": "stderr",
     "output_type": "stream",
     "text": [
      "\r",
      " 22%|██▏       | 3718/17240 [1:03:27<4:00:33,  1.07s/it]"
     ]
    },
    {
     "name": "stdout",
     "output_type": "stream",
     "text": [
      "(1.0, 'پاریس', 'پاری')\n"
     ]
    },
    {
     "name": "stderr",
     "output_type": "stream",
     "text": [
      " 22%|██▏       | 3750/17240 [1:04:04<4:01:57,  1.08s/it]"
     ]
    },
    {
     "name": "stdout",
     "output_type": "stream",
     "text": [
      "(0.0, 'چون', 'چون')\n"
     ]
    },
    {
     "name": "stderr",
     "output_type": "stream",
     "text": [
      "\r",
      " 22%|██▏       | 3751/17240 [1:04:05<3:18:56,  1.13it/s]"
     ]
    },
    {
     "name": "stdout",
     "output_type": "stream",
     "text": [
      "(0.25, 'چون', 'چؤن')\n",
      "(0.25, 'چون', 'چۊن')\n"
     ]
    },
    {
     "name": "stderr",
     "output_type": "stream",
     "text": [
      " 22%|██▏       | 3758/17240 [1:04:12<3:47:23,  1.01s/it]"
     ]
    },
    {
     "name": "stdout",
     "output_type": "stream",
     "text": [
      "(1.0, 'سعود', 'مسعود')\n"
     ]
    },
    {
     "name": "stderr",
     "output_type": "stream",
     "text": [
      "\r",
      " 22%|██▏       | 3759/17240 [1:04:13<3:15:57,  1.15it/s]"
     ]
    },
    {
     "name": "stdout",
     "output_type": "stream",
     "text": [
      "(1.0, 'سعود', 'سعودي')\n"
     ]
    },
    {
     "name": "stderr",
     "output_type": "stream",
     "text": [
      " 22%|██▏       | 3764/17240 [1:04:17<3:07:23,  1.20it/s]"
     ]
    },
    {
     "name": "stdout",
     "output_type": "stream",
     "text": [
      "(1.25, 'باکوور', 'باکۊر')\n"
     ]
    },
    {
     "name": "stderr",
     "output_type": "stream",
     "text": [
      " 22%|██▏       | 3784/17240 [1:04:41<4:56:24,  1.32s/it]"
     ]
    },
    {
     "name": "stdout",
     "output_type": "stream",
     "text": [
      "(0.0, 'کردستان', 'کردستان')\n"
     ]
    },
    {
     "name": "stderr",
     "output_type": "stream",
     "text": [
      "\r",
      " 22%|██▏       | 3785/17240 [1:04:42<4:30:48,  1.21s/it]"
     ]
    },
    {
     "name": "stdout",
     "output_type": "stream",
     "text": [
      "(1.0, 'کردستان', 'کۊردستان')\n"
     ]
    },
    {
     "name": "stderr",
     "output_type": "stream",
     "text": [
      " 22%|██▏       | 3788/17240 [1:04:45<3:37:00,  1.03it/s]"
     ]
    },
    {
     "name": "stdout",
     "output_type": "stream",
     "text": [
      "(0.0, 'مرکزی', 'مرکزی')\n",
      "(1.0, 'مرکزی', 'مرکزیت')\n"
     ]
    },
    {
     "name": "stderr",
     "output_type": "stream",
     "text": [
      "\r",
      " 22%|██▏       | 3789/17240 [1:04:45<3:17:54,  1.13it/s]"
     ]
    },
    {
     "name": "stdout",
     "output_type": "stream",
     "text": [
      "(1.0, 'مرکزی', 'مرکز')\n"
     ]
    },
    {
     "name": "stderr",
     "output_type": "stream",
     "text": [
      " 22%|██▏       | 3793/17240 [1:04:49<3:35:32,  1.04it/s]"
     ]
    },
    {
     "name": "stdout",
     "output_type": "stream",
     "text": [
      "(1.0, 'رئیسی', 'رئیس')\n"
     ]
    },
    {
     "name": "stderr",
     "output_type": "stream",
     "text": [
      " 22%|██▏       | 3803/17240 [1:04:58<3:36:20,  1.04it/s]"
     ]
    },
    {
     "name": "stdout",
     "output_type": "stream",
     "text": [
      "(1.0, 'گلستان', 'گۊلستان')\n",
      "(0.0, 'گلستان', 'گلستان')\n"
     ]
    },
    {
     "name": "stderr",
     "output_type": "stream",
     "text": [
      " 22%|██▏       | 3807/17240 [1:05:02<3:02:28,  1.23it/s]"
     ]
    },
    {
     "name": "stdout",
     "output_type": "stream",
     "text": [
      "(1.0, 'بەرپا', 'برپا')\n"
     ]
    },
    {
     "name": "stderr",
     "output_type": "stream",
     "text": [
      " 22%|██▏       | 3842/17240 [1:05:35<3:07:19,  1.19it/s]"
     ]
    },
    {
     "name": "stdout",
     "output_type": "stream",
     "text": [
      "(1.0, 'سەما', 'سما')\n"
     ]
    },
    {
     "name": "stderr",
     "output_type": "stream",
     "text": [
      " 22%|██▏       | 3846/17240 [1:05:39<3:33:00,  1.05it/s]"
     ]
    },
    {
     "name": "stdout",
     "output_type": "stream",
     "text": [
      "(1.0, 'تاوان', 'توان')\n"
     ]
    },
    {
     "name": "stderr",
     "output_type": "stream",
     "text": [
      " 22%|██▏       | 3848/17240 [1:05:41<3:42:08,  1.00it/s]"
     ]
    },
    {
     "name": "stdout",
     "output_type": "stream",
     "text": [
      "(1.25, 'زادە', 'زيد')\n"
     ]
    },
    {
     "name": "stderr",
     "output_type": "stream",
     "text": [
      " 22%|██▏       | 3855/17240 [1:05:48<4:20:11,  1.17s/it]"
     ]
    },
    {
     "name": "stdout",
     "output_type": "stream",
     "text": [
      "(1.25, 'سوحفی', 'صوفی')\n"
     ]
    },
    {
     "name": "stderr",
     "output_type": "stream",
     "text": [
      " 22%|██▏       | 3871/17240 [1:06:08<4:32:55,  1.22s/it]"
     ]
    },
    {
     "name": "stdout",
     "output_type": "stream",
     "text": [
      "(1.25, 'مانە', 'مئن')\n",
      "(1.0, 'تایم', 'تام')\n"
     ]
    },
    {
     "name": "stderr",
     "output_type": "stream",
     "text": [
      "\r",
      " 22%|██▏       | 3872/17240 [1:06:08<3:47:21,  1.02s/it]"
     ]
    },
    {
     "name": "stdout",
     "output_type": "stream",
     "text": [
      "(1.0, 'تایم', 'تانیم')\n"
     ]
    },
    {
     "name": "stderr",
     "output_type": "stream",
     "text": [
      " 23%|██▎       | 3883/17240 [1:06:20<3:36:50,  1.03it/s]"
     ]
    },
    {
     "name": "stdout",
     "output_type": "stream",
     "text": [
      "(0.0, 'زازا', 'زازا')\n"
     ]
    },
    {
     "name": "stderr",
     "output_type": "stream",
     "text": [
      "\r",
      " 23%|██▎       | 3884/17240 [1:06:21<3:09:51,  1.17it/s]"
     ]
    },
    {
     "name": "stdout",
     "output_type": "stream",
     "text": [
      "(1.25, 'زازا', 'أزا')\n"
     ]
    },
    {
     "name": "stderr",
     "output_type": "stream",
     "text": [
      " 23%|██▎       | 3907/17240 [1:06:46<4:33:33,  1.23s/it]"
     ]
    },
    {
     "name": "stdout",
     "output_type": "stream",
     "text": [
      "(1.0, 'سنوری', 'نوری')\n"
     ]
    },
    {
     "name": "stderr",
     "output_type": "stream",
     "text": [
      " 23%|██▎       | 3940/17240 [1:07:20<4:32:10,  1.23s/it]"
     ]
    },
    {
     "name": "stdout",
     "output_type": "stream",
     "text": [
      "(1.5, 'ئیمپراتوری', 'امپراطوری')\n",
      "(1.25, 'ئیمپراتوری', 'امپراتوری')\n",
      "(1.0, 'گورجی', 'گرجی')\n"
     ]
    },
    {
     "name": "stderr",
     "output_type": "stream",
     "text": [
      " 23%|██▎       | 3941/17240 [1:07:21<3:47:17,  1.03s/it]\n"
     ]
    },
    {
     "ename": "KeyboardInterrupt",
     "evalue": "",
     "output_type": "error",
     "traceback": [
      "\u001b[0;31m---------------------------------------------------------------------------\u001b[0m",
      "\u001b[0;31mKeyboardInterrupt\u001b[0m                         Traceback (most recent call last)",
      "\u001b[0;32m<ipython-input-338-cad6051ada79>\u001b[0m in \u001b[0;36m<module>\u001b[0;34m\u001b[0m\n\u001b[1;32m      9\u001b[0m     \u001b[0;32mfor\u001b[0m \u001b[0mglk\u001b[0m \u001b[0;32min\u001b[0m \u001b[0mglk_words\u001b[0m\u001b[0;34m[\u001b[0m\u001b[0;34m:\u001b[0m\u001b[0;34m]\u001b[0m\u001b[0;34m:\u001b[0m\u001b[0;34m\u001b[0m\u001b[0;34m\u001b[0m\u001b[0m\n\u001b[1;32m     10\u001b[0m \u001b[0;31m#         d = distance_sor_glk(sor, glk)\u001b[0m\u001b[0;34m\u001b[0m\u001b[0;34m\u001b[0m\u001b[0m\n\u001b[0;32m---> 11\u001b[0;31m         \u001b[0md\u001b[0m \u001b[0;34m=\u001b[0m \u001b[0;34m(\u001b[0m\u001b[0mMED\u001b[0m\u001b[0;34m(\u001b[0m\u001b[0mglk\u001b[0m\u001b[0;34m,\u001b[0m \u001b[0msor\u001b[0m\u001b[0;34m)\u001b[0m\u001b[0;34m,\u001b[0m \u001b[0msor\u001b[0m\u001b[0;34m,\u001b[0m \u001b[0mglk\u001b[0m\u001b[0;34m)\u001b[0m\u001b[0;34m\u001b[0m\u001b[0;34m\u001b[0m\u001b[0m\n\u001b[0m\u001b[1;32m     12\u001b[0m         \u001b[0;32mif\u001b[0m \u001b[0md\u001b[0m\u001b[0;34m[\u001b[0m\u001b[0;36m0\u001b[0m\u001b[0;34m]\u001b[0m \u001b[0;34m<\u001b[0m \u001b[0;36m2\u001b[0m\u001b[0;34m:\u001b[0m\u001b[0;34m\u001b[0m\u001b[0;34m\u001b[0m\u001b[0m\n\u001b[1;32m     13\u001b[0m             \u001b[0mprint\u001b[0m\u001b[0;34m(\u001b[0m\u001b[0md\u001b[0m\u001b[0;34m)\u001b[0m\u001b[0;34m\u001b[0m\u001b[0;34m\u001b[0m\u001b[0m\n",
      "\u001b[0;32m<ipython-input-326-4dee53ca88d2>\u001b[0m in \u001b[0;36mMED\u001b[0;34m(a, b)\u001b[0m\n\u001b[1;32m     25\u001b[0m \u001b[0;34m\u001b[0m\u001b[0m\n\u001b[1;32m     26\u001b[0m     \u001b[0;32mfor\u001b[0m \u001b[0mi\u001b[0m \u001b[0;32min\u001b[0m \u001b[0mrange\u001b[0m\u001b[0;34m(\u001b[0m\u001b[0mn\u001b[0m\u001b[0;34m)\u001b[0m\u001b[0;34m:\u001b[0m\u001b[0;34m\u001b[0m\u001b[0;34m\u001b[0m\u001b[0m\n\u001b[0;32m---> 27\u001b[0;31m         \u001b[0;32mfor\u001b[0m \u001b[0mj\u001b[0m \u001b[0;32min\u001b[0m \u001b[0mrange\u001b[0m\u001b[0;34m(\u001b[0m\u001b[0mm\u001b[0m\u001b[0;34m)\u001b[0m\u001b[0;34m:\u001b[0m\u001b[0;34m\u001b[0m\u001b[0;34m\u001b[0m\u001b[0m\n\u001b[0m\u001b[1;32m     28\u001b[0m             M[i+1,j+1] = min(\n\u001b[1;32m     29\u001b[0m                 \u001b[0mM\u001b[0m\u001b[0;34m[\u001b[0m\u001b[0mi\u001b[0m\u001b[0;34m,\u001b[0m\u001b[0mj\u001b[0m\u001b[0;34m+\u001b[0m\u001b[0;36m1\u001b[0m\u001b[0;34m]\u001b[0m\u001b[0;34m+\u001b[0m\u001b[0;36m1\u001b[0m\u001b[0;34m,\u001b[0m \u001b[0mM\u001b[0m\u001b[0;34m[\u001b[0m\u001b[0mi\u001b[0m\u001b[0;34m+\u001b[0m\u001b[0;36m1\u001b[0m\u001b[0;34m,\u001b[0m\u001b[0mj\u001b[0m\u001b[0;34m]\u001b[0m\u001b[0;34m+\u001b[0m\u001b[0;36m1\u001b[0m\u001b[0;34m,\u001b[0m\u001b[0;34m\u001b[0m\u001b[0;34m\u001b[0m\u001b[0m\n",
      "\u001b[0;31mKeyboardInterrupt\u001b[0m: "
     ]
    }
   ],
   "source": [
    "def distance_sor_glk(sor, glk):\n",
    "    return min([(MED(word, glk),word) for word in reduce_sorani_word(sor)])\n",
    "\n",
    "dists = []\n",
    "\n",
    "from tqdm import tqdm\n",
    "\n",
    "for sor in tqdm(sor_words[:]):\n",
    "    for glk in glk_words[:]:\n",
    "#         d = distance_sor_glk(sor, glk)\n",
    "        d = (MED(glk, sor), sor, glk)\n",
    "        if d[0] < 2:\n",
    "            print(d)\n",
    "            dists.append(d)"
   ]
  },
  {
   "cell_type": "code",
   "execution_count": 317,
   "metadata": {},
   "outputs": [],
   "source": [
    "# import heapq\n",
    "# best = heapq.nsmallest(30, dists)"
   ]
  },
  {
   "cell_type": "code",
   "execution_count": 337,
   "metadata": {
    "scrolled": true
   },
   "outputs": [
    {
     "data": {
      "text/plain": [
       "[(1.25, 'داڕشت', 'دأشت'),\n",
       " (1.25, 'وته', 'سۊته'),\n",
       " (1.0, 'وته', 'وسته'),\n",
       " (0.25, 'شاره', 'شأره'),\n",
       " (1.0, 'شاره', 'شماره'),\n",
       " (1.0, 'شاره', 'اشاره'),\n",
       " (1.0, 'کوردی', 'کردی'),\n",
       " (1.0, 'فارسی', 'فارس'),\n",
       " (1.0, 'راگه', 'راه'),\n",
       " (1.0, 'چیتای', 'چیتی'),\n",
       " (1.0, 'سار', 'ساری'),\n",
       " (1.25, 'سار', 'صارا'),\n",
       " (1.25, 'دانس', 'دأن'),\n",
       " (1.25, 'دانس', 'دئن'),\n",
       " (1.25, 'دانس', 'دين'),\n",
       " (1.0, 'جوو', 'جولو'),\n",
       " (1.25, 'دوان', 'دأن'),\n",
       " (1.25, 'دوان', 'دئن'),\n",
       " (1.0, 'دوان', 'دیوان'),\n",
       " (1.25, 'دوان', 'دين'),\n",
       " (1.0, 'سێفید', 'سفید'),\n",
       " (1.25, 'ئلی', 'هالی'),\n",
       " (1.25, 'ئلی', 'خالی'),\n",
       " (1.0, 'ماما', 'اما'),\n",
       " (1.25, 'ماما', 'ميم'),\n",
       " (1.25, 'وان', 'ۊنان'),\n",
       " (1.25, 'وان', 'ويني'),\n",
       " (1.0, 'دامه', 'دام'),\n",
       " (1.0, 'باشور', 'باور'),\n",
       " (1.0, 'بەکار', 'بکار'),\n",
       " (1.0, 'دوو', 'دوبو'),\n",
       " (1.0, 'بری', 'برئی'),\n",
       " (1.0, 'بری', 'برخی'),\n",
       " (1.0, 'کۆردی', 'کردی'),\n",
       " (1.25, 'ئیریان', 'ایران'),\n",
       " (1.0, 'قودسی', 'قدسی'),\n",
       " (1.0, 'مادی', 'ماد'),\n",
       " (1.25, 'داوا', 'ديوار'),\n",
       " (1.0, 'بونی', 'بون'),\n",
       " (1.0, 'کول', 'کولی'),\n",
       " (1.25, 'تورکی', 'تۊرکیه'),\n",
       " (1.0, 'واک', 'واکه')]"
      ]
     },
     "execution_count": 337,
     "metadata": {},
     "output_type": "execute_result"
    }
   ],
   "source": [
    "dists"
   ]
  },
  {
   "cell_type": "code",
   "execution_count": null,
   "metadata": {},
   "outputs": [],
   "source": []
  }
 ],
 "metadata": {
  "kernelspec": {
   "display_name": "Python 3",
   "language": "python",
   "name": "python3"
  },
  "language_info": {
   "codemirror_mode": {
    "name": "ipython",
    "version": 3
   },
   "file_extension": ".py",
   "mimetype": "text/x-python",
   "name": "python",
   "nbconvert_exporter": "python",
   "pygments_lexer": "ipython3",
   "version": "3.9.7"
  }
 },
 "nbformat": 4,
 "nbformat_minor": 4
}
